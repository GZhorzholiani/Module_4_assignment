{
 "cells": [
  {
   "cell_type": "code",
   "id": "initial_id",
   "metadata": {
    "collapsed": true,
    "ExecuteTime": {
     "end_time": "2025-03-08T20:00:13.298158Z",
     "start_time": "2025-03-08T20:00:11.891566Z"
    }
   },
   "source": "import pandas as pd",
   "outputs": [],
   "execution_count": 1
  },
  {
   "metadata": {
    "ExecuteTime": {
     "end_time": "2025-03-08T20:00:15.338223Z",
     "start_time": "2025-03-08T20:00:13.307193Z"
    }
   },
   "cell_type": "code",
   "source": [
    "# Read Covid Province file\n",
    "df_covid_province=pd.read_excel(\"../Datasets/Covid_province.xlsx\", engine=\"openpyxl\")\n",
    "df_covid_province.head()"
   ],
   "id": "215126bbd4e8eafc",
   "outputs": [
    {
     "data": {
      "text/plain": [
       "   SNo, Date, Country, RegionCode, Region, ProvinceCode, ProvinceName, ProvinceAbbreviation, Latitude, Longitude, TotalPositiveCases  \\\n",
       "0                                                  0                                                                                   \n",
       "1                                                  1                                                                                   \n",
       "2                                                  2                                                                                   \n",
       "3                                                  3                                                                                   \n",
       "4                                                  4                                                                                   \n",
       "\n",
       "            Unnamed: 1 Unnamed: 2  Unnamed: 3 Unnamed: 4  Unnamed: 5  \\\n",
       "0  2020-02-24T18:00:00        ITA          13    Abruzzo          66   \n",
       "1  2020-02-24T18:00:00        ITA          13    Abruzzo          67   \n",
       "2  2020-02-24T18:00:00        ITA          13    Abruzzo          68   \n",
       "3  2020-02-24T18:00:00        ITA          13    Abruzzo          69   \n",
       "4  2020-02-24T18:00:00        ITA          13    Abruzzo         979   \n",
       "\n",
       "                             Unnamed: 6 Unnamed: 7  Unnamed: 8  Unnamed: 9  \\\n",
       "0                              L'Aquila         AQ   42.351222   13.398438   \n",
       "1                                Teramo         TE   42.658918   13.704400   \n",
       "2                               Pescara         PE   42.464584   14.213648   \n",
       "3                                Chieti         CH   42.351032   14.167546   \n",
       "4  In fase di definizione/aggiornamento        NaN         NaN         NaN   \n",
       "\n",
       "   Unnamed: 10  \n",
       "0            0  \n",
       "1            0  \n",
       "2            0  \n",
       "3            0  \n",
       "4            0  "
      ],
      "text/html": [
       "<div>\n",
       "<style scoped>\n",
       "    .dataframe tbody tr th:only-of-type {\n",
       "        vertical-align: middle;\n",
       "    }\n",
       "\n",
       "    .dataframe tbody tr th {\n",
       "        vertical-align: top;\n",
       "    }\n",
       "\n",
       "    .dataframe thead th {\n",
       "        text-align: right;\n",
       "    }\n",
       "</style>\n",
       "<table border=\"1\" class=\"dataframe\">\n",
       "  <thead>\n",
       "    <tr style=\"text-align: right;\">\n",
       "      <th></th>\n",
       "      <th>SNo, Date, Country, RegionCode, Region, ProvinceCode, ProvinceName, ProvinceAbbreviation, Latitude, Longitude, TotalPositiveCases</th>\n",
       "      <th>Unnamed: 1</th>\n",
       "      <th>Unnamed: 2</th>\n",
       "      <th>Unnamed: 3</th>\n",
       "      <th>Unnamed: 4</th>\n",
       "      <th>Unnamed: 5</th>\n",
       "      <th>Unnamed: 6</th>\n",
       "      <th>Unnamed: 7</th>\n",
       "      <th>Unnamed: 8</th>\n",
       "      <th>Unnamed: 9</th>\n",
       "      <th>Unnamed: 10</th>\n",
       "    </tr>\n",
       "  </thead>\n",
       "  <tbody>\n",
       "    <tr>\n",
       "      <th>0</th>\n",
       "      <td>0</td>\n",
       "      <td>2020-02-24T18:00:00</td>\n",
       "      <td>ITA</td>\n",
       "      <td>13</td>\n",
       "      <td>Abruzzo</td>\n",
       "      <td>66</td>\n",
       "      <td>L'Aquila</td>\n",
       "      <td>AQ</td>\n",
       "      <td>42.351222</td>\n",
       "      <td>13.398438</td>\n",
       "      <td>0</td>\n",
       "    </tr>\n",
       "    <tr>\n",
       "      <th>1</th>\n",
       "      <td>1</td>\n",
       "      <td>2020-02-24T18:00:00</td>\n",
       "      <td>ITA</td>\n",
       "      <td>13</td>\n",
       "      <td>Abruzzo</td>\n",
       "      <td>67</td>\n",
       "      <td>Teramo</td>\n",
       "      <td>TE</td>\n",
       "      <td>42.658918</td>\n",
       "      <td>13.704400</td>\n",
       "      <td>0</td>\n",
       "    </tr>\n",
       "    <tr>\n",
       "      <th>2</th>\n",
       "      <td>2</td>\n",
       "      <td>2020-02-24T18:00:00</td>\n",
       "      <td>ITA</td>\n",
       "      <td>13</td>\n",
       "      <td>Abruzzo</td>\n",
       "      <td>68</td>\n",
       "      <td>Pescara</td>\n",
       "      <td>PE</td>\n",
       "      <td>42.464584</td>\n",
       "      <td>14.213648</td>\n",
       "      <td>0</td>\n",
       "    </tr>\n",
       "    <tr>\n",
       "      <th>3</th>\n",
       "      <td>3</td>\n",
       "      <td>2020-02-24T18:00:00</td>\n",
       "      <td>ITA</td>\n",
       "      <td>13</td>\n",
       "      <td>Abruzzo</td>\n",
       "      <td>69</td>\n",
       "      <td>Chieti</td>\n",
       "      <td>CH</td>\n",
       "      <td>42.351032</td>\n",
       "      <td>14.167546</td>\n",
       "      <td>0</td>\n",
       "    </tr>\n",
       "    <tr>\n",
       "      <th>4</th>\n",
       "      <td>4</td>\n",
       "      <td>2020-02-24T18:00:00</td>\n",
       "      <td>ITA</td>\n",
       "      <td>13</td>\n",
       "      <td>Abruzzo</td>\n",
       "      <td>979</td>\n",
       "      <td>In fase di definizione/aggiornamento</td>\n",
       "      <td>NaN</td>\n",
       "      <td>NaN</td>\n",
       "      <td>NaN</td>\n",
       "      <td>0</td>\n",
       "    </tr>\n",
       "  </tbody>\n",
       "</table>\n",
       "</div>"
      ]
     },
     "execution_count": 2,
     "metadata": {},
     "output_type": "execute_result"
    }
   ],
   "execution_count": 2
  },
  {
   "metadata": {
    "ExecuteTime": {
     "end_time": "2025-03-08T20:00:15.654653Z",
     "start_time": "2025-03-08T20:00:15.651159Z"
    }
   },
   "cell_type": "code",
   "source": "df_covid_province.columns # Check columns",
   "id": "68a20060e2e27053",
   "outputs": [
    {
     "data": {
      "text/plain": [
       "Index(['SNo, Date, Country, RegionCode, Region, ProvinceCode, ProvinceName, ProvinceAbbreviation, Latitude, Longitude, TotalPositiveCases',\n",
       "       'Unnamed: 1', 'Unnamed: 2', 'Unnamed: 3', 'Unnamed: 4', 'Unnamed: 5',\n",
       "       'Unnamed: 6', 'Unnamed: 7', 'Unnamed: 8', 'Unnamed: 9', 'Unnamed: 10'],\n",
       "      dtype='object')"
      ]
     },
     "execution_count": 3,
     "metadata": {},
     "output_type": "execute_result"
    }
   ],
   "execution_count": 3
  },
  {
   "metadata": {
    "ExecuteTime": {
     "end_time": "2025-03-08T20:00:15.685748Z",
     "start_time": "2025-03-08T20:00:15.682837Z"
    }
   },
   "cell_type": "code",
   "source": [
    "# Split the first column name\n",
    "split_names = df_covid_province.columns[0].split(\",\")\n",
    "\n",
    "# Assign new column names (if number of names matches the number of columns)\n",
    "df_covid_province.columns = split_names"
   ],
   "id": "ad6b8b727c754396",
   "outputs": [],
   "execution_count": 4
  },
  {
   "metadata": {
    "ExecuteTime": {
     "end_time": "2025-03-08T20:00:15.740830Z",
     "start_time": "2025-03-08T20:00:15.734091Z"
    }
   },
   "cell_type": "code",
   "source": "df_covid_province.head()",
   "id": "f390736d4ab19ba9",
   "outputs": [
    {
     "data": {
      "text/plain": [
       "   SNo                 Date  Country   RegionCode   Region   ProvinceCode  \\\n",
       "0    0  2020-02-24T18:00:00      ITA           13  Abruzzo             66   \n",
       "1    1  2020-02-24T18:00:00      ITA           13  Abruzzo             67   \n",
       "2    2  2020-02-24T18:00:00      ITA           13  Abruzzo             68   \n",
       "3    3  2020-02-24T18:00:00      ITA           13  Abruzzo             69   \n",
       "4    4  2020-02-24T18:00:00      ITA           13  Abruzzo            979   \n",
       "\n",
       "                           ProvinceName  ProvinceAbbreviation   Latitude  \\\n",
       "0                              L'Aquila                    AQ  42.351222   \n",
       "1                                Teramo                    TE  42.658918   \n",
       "2                               Pescara                    PE  42.464584   \n",
       "3                                Chieti                    CH  42.351032   \n",
       "4  In fase di definizione/aggiornamento                   NaN        NaN   \n",
       "\n",
       "    Longitude   TotalPositiveCases  \n",
       "0   13.398438                    0  \n",
       "1   13.704400                    0  \n",
       "2   14.213648                    0  \n",
       "3   14.167546                    0  \n",
       "4         NaN                    0  "
      ],
      "text/html": [
       "<div>\n",
       "<style scoped>\n",
       "    .dataframe tbody tr th:only-of-type {\n",
       "        vertical-align: middle;\n",
       "    }\n",
       "\n",
       "    .dataframe tbody tr th {\n",
       "        vertical-align: top;\n",
       "    }\n",
       "\n",
       "    .dataframe thead th {\n",
       "        text-align: right;\n",
       "    }\n",
       "</style>\n",
       "<table border=\"1\" class=\"dataframe\">\n",
       "  <thead>\n",
       "    <tr style=\"text-align: right;\">\n",
       "      <th></th>\n",
       "      <th>SNo</th>\n",
       "      <th>Date</th>\n",
       "      <th>Country</th>\n",
       "      <th>RegionCode</th>\n",
       "      <th>Region</th>\n",
       "      <th>ProvinceCode</th>\n",
       "      <th>ProvinceName</th>\n",
       "      <th>ProvinceAbbreviation</th>\n",
       "      <th>Latitude</th>\n",
       "      <th>Longitude</th>\n",
       "      <th>TotalPositiveCases</th>\n",
       "    </tr>\n",
       "  </thead>\n",
       "  <tbody>\n",
       "    <tr>\n",
       "      <th>0</th>\n",
       "      <td>0</td>\n",
       "      <td>2020-02-24T18:00:00</td>\n",
       "      <td>ITA</td>\n",
       "      <td>13</td>\n",
       "      <td>Abruzzo</td>\n",
       "      <td>66</td>\n",
       "      <td>L'Aquila</td>\n",
       "      <td>AQ</td>\n",
       "      <td>42.351222</td>\n",
       "      <td>13.398438</td>\n",
       "      <td>0</td>\n",
       "    </tr>\n",
       "    <tr>\n",
       "      <th>1</th>\n",
       "      <td>1</td>\n",
       "      <td>2020-02-24T18:00:00</td>\n",
       "      <td>ITA</td>\n",
       "      <td>13</td>\n",
       "      <td>Abruzzo</td>\n",
       "      <td>67</td>\n",
       "      <td>Teramo</td>\n",
       "      <td>TE</td>\n",
       "      <td>42.658918</td>\n",
       "      <td>13.704400</td>\n",
       "      <td>0</td>\n",
       "    </tr>\n",
       "    <tr>\n",
       "      <th>2</th>\n",
       "      <td>2</td>\n",
       "      <td>2020-02-24T18:00:00</td>\n",
       "      <td>ITA</td>\n",
       "      <td>13</td>\n",
       "      <td>Abruzzo</td>\n",
       "      <td>68</td>\n",
       "      <td>Pescara</td>\n",
       "      <td>PE</td>\n",
       "      <td>42.464584</td>\n",
       "      <td>14.213648</td>\n",
       "      <td>0</td>\n",
       "    </tr>\n",
       "    <tr>\n",
       "      <th>3</th>\n",
       "      <td>3</td>\n",
       "      <td>2020-02-24T18:00:00</td>\n",
       "      <td>ITA</td>\n",
       "      <td>13</td>\n",
       "      <td>Abruzzo</td>\n",
       "      <td>69</td>\n",
       "      <td>Chieti</td>\n",
       "      <td>CH</td>\n",
       "      <td>42.351032</td>\n",
       "      <td>14.167546</td>\n",
       "      <td>0</td>\n",
       "    </tr>\n",
       "    <tr>\n",
       "      <th>4</th>\n",
       "      <td>4</td>\n",
       "      <td>2020-02-24T18:00:00</td>\n",
       "      <td>ITA</td>\n",
       "      <td>13</td>\n",
       "      <td>Abruzzo</td>\n",
       "      <td>979</td>\n",
       "      <td>In fase di definizione/aggiornamento</td>\n",
       "      <td>NaN</td>\n",
       "      <td>NaN</td>\n",
       "      <td>NaN</td>\n",
       "      <td>0</td>\n",
       "    </tr>\n",
       "  </tbody>\n",
       "</table>\n",
       "</div>"
      ]
     },
     "execution_count": 5,
     "metadata": {},
     "output_type": "execute_result"
    }
   ],
   "execution_count": 5
  },
  {
   "metadata": {
    "ExecuteTime": {
     "end_time": "2025-03-08T20:00:15.779293Z",
     "start_time": "2025-03-08T20:00:15.774375Z"
    }
   },
   "cell_type": "code",
   "source": [
    "df_covid_province.columns = df_covid_province.columns.str.strip() # Remove leading/trailing spaces\n",
    "df_covid_province.columns"
   ],
   "id": "840d22b5a0804865",
   "outputs": [
    {
     "data": {
      "text/plain": [
       "Index(['SNo', 'Date', 'Country', 'RegionCode', 'Region', 'ProvinceCode',\n",
       "       'ProvinceName', 'ProvinceAbbreviation', 'Latitude', 'Longitude',\n",
       "       'TotalPositiveCases'],\n",
       "      dtype='object')"
      ]
     },
     "execution_count": 6,
     "metadata": {},
     "output_type": "execute_result"
    }
   ],
   "execution_count": 6
  },
  {
   "metadata": {
    "ExecuteTime": {
     "end_time": "2025-03-08T20:00:15.877213Z",
     "start_time": "2025-03-08T20:00:15.823893Z"
    }
   },
   "cell_type": "code",
   "source": [
    "#Split with 'T' and select first generated string\n",
    "df_covid_province['Date'] = df_covid_province['Date'].str.split('T').str[0]\n",
    "df_covid_province.head()"
   ],
   "id": "dc1b7a138115be15",
   "outputs": [
    {
     "data": {
      "text/plain": [
       "   SNo        Date Country  RegionCode   Region  ProvinceCode  \\\n",
       "0    0  2020-02-24     ITA          13  Abruzzo            66   \n",
       "1    1  2020-02-24     ITA          13  Abruzzo            67   \n",
       "2    2  2020-02-24     ITA          13  Abruzzo            68   \n",
       "3    3  2020-02-24     ITA          13  Abruzzo            69   \n",
       "4    4  2020-02-24     ITA          13  Abruzzo           979   \n",
       "\n",
       "                           ProvinceName ProvinceAbbreviation   Latitude  \\\n",
       "0                              L'Aquila                   AQ  42.351222   \n",
       "1                                Teramo                   TE  42.658918   \n",
       "2                               Pescara                   PE  42.464584   \n",
       "3                                Chieti                   CH  42.351032   \n",
       "4  In fase di definizione/aggiornamento                  NaN        NaN   \n",
       "\n",
       "   Longitude  TotalPositiveCases  \n",
       "0  13.398438                   0  \n",
       "1  13.704400                   0  \n",
       "2  14.213648                   0  \n",
       "3  14.167546                   0  \n",
       "4        NaN                   0  "
      ],
      "text/html": [
       "<div>\n",
       "<style scoped>\n",
       "    .dataframe tbody tr th:only-of-type {\n",
       "        vertical-align: middle;\n",
       "    }\n",
       "\n",
       "    .dataframe tbody tr th {\n",
       "        vertical-align: top;\n",
       "    }\n",
       "\n",
       "    .dataframe thead th {\n",
       "        text-align: right;\n",
       "    }\n",
       "</style>\n",
       "<table border=\"1\" class=\"dataframe\">\n",
       "  <thead>\n",
       "    <tr style=\"text-align: right;\">\n",
       "      <th></th>\n",
       "      <th>SNo</th>\n",
       "      <th>Date</th>\n",
       "      <th>Country</th>\n",
       "      <th>RegionCode</th>\n",
       "      <th>Region</th>\n",
       "      <th>ProvinceCode</th>\n",
       "      <th>ProvinceName</th>\n",
       "      <th>ProvinceAbbreviation</th>\n",
       "      <th>Latitude</th>\n",
       "      <th>Longitude</th>\n",
       "      <th>TotalPositiveCases</th>\n",
       "    </tr>\n",
       "  </thead>\n",
       "  <tbody>\n",
       "    <tr>\n",
       "      <th>0</th>\n",
       "      <td>0</td>\n",
       "      <td>2020-02-24</td>\n",
       "      <td>ITA</td>\n",
       "      <td>13</td>\n",
       "      <td>Abruzzo</td>\n",
       "      <td>66</td>\n",
       "      <td>L'Aquila</td>\n",
       "      <td>AQ</td>\n",
       "      <td>42.351222</td>\n",
       "      <td>13.398438</td>\n",
       "      <td>0</td>\n",
       "    </tr>\n",
       "    <tr>\n",
       "      <th>1</th>\n",
       "      <td>1</td>\n",
       "      <td>2020-02-24</td>\n",
       "      <td>ITA</td>\n",
       "      <td>13</td>\n",
       "      <td>Abruzzo</td>\n",
       "      <td>67</td>\n",
       "      <td>Teramo</td>\n",
       "      <td>TE</td>\n",
       "      <td>42.658918</td>\n",
       "      <td>13.704400</td>\n",
       "      <td>0</td>\n",
       "    </tr>\n",
       "    <tr>\n",
       "      <th>2</th>\n",
       "      <td>2</td>\n",
       "      <td>2020-02-24</td>\n",
       "      <td>ITA</td>\n",
       "      <td>13</td>\n",
       "      <td>Abruzzo</td>\n",
       "      <td>68</td>\n",
       "      <td>Pescara</td>\n",
       "      <td>PE</td>\n",
       "      <td>42.464584</td>\n",
       "      <td>14.213648</td>\n",
       "      <td>0</td>\n",
       "    </tr>\n",
       "    <tr>\n",
       "      <th>3</th>\n",
       "      <td>3</td>\n",
       "      <td>2020-02-24</td>\n",
       "      <td>ITA</td>\n",
       "      <td>13</td>\n",
       "      <td>Abruzzo</td>\n",
       "      <td>69</td>\n",
       "      <td>Chieti</td>\n",
       "      <td>CH</td>\n",
       "      <td>42.351032</td>\n",
       "      <td>14.167546</td>\n",
       "      <td>0</td>\n",
       "    </tr>\n",
       "    <tr>\n",
       "      <th>4</th>\n",
       "      <td>4</td>\n",
       "      <td>2020-02-24</td>\n",
       "      <td>ITA</td>\n",
       "      <td>13</td>\n",
       "      <td>Abruzzo</td>\n",
       "      <td>979</td>\n",
       "      <td>In fase di definizione/aggiornamento</td>\n",
       "      <td>NaN</td>\n",
       "      <td>NaN</td>\n",
       "      <td>NaN</td>\n",
       "      <td>0</td>\n",
       "    </tr>\n",
       "  </tbody>\n",
       "</table>\n",
       "</div>"
      ]
     },
     "execution_count": 7,
     "metadata": {},
     "output_type": "execute_result"
    }
   ],
   "execution_count": 7
  },
  {
   "metadata": {
    "ExecuteTime": {
     "end_time": "2025-03-08T20:00:15.945336Z",
     "start_time": "2025-03-08T20:00:15.936211Z"
    }
   },
   "cell_type": "code",
   "source": "df_covid_province.isna().sum() # Get the sum of missing values",
   "id": "144594f873087434",
   "outputs": [
    {
     "data": {
      "text/plain": [
       "SNo                        0\n",
       "Date                       0\n",
       "Country                    0\n",
       "RegionCode                 0\n",
       "Region                     0\n",
       "ProvinceCode               0\n",
       "ProvinceName               0\n",
       "ProvinceAbbreviation    9779\n",
       "Latitude                9492\n",
       "Longitude               9492\n",
       "TotalPositiveCases         0\n",
       "dtype: int64"
      ]
     },
     "execution_count": 8,
     "metadata": {},
     "output_type": "execute_result"
    }
   ],
   "execution_count": 8
  },
  {
   "metadata": {
    "ExecuteTime": {
     "end_time": "2025-03-08T20:00:16.021651Z",
     "start_time": "2025-03-08T20:00:16.018352Z"
    }
   },
   "cell_type": "code",
   "source": "df_covid_province.shape # Check the shape of df",
   "id": "d68a1f120635f775",
   "outputs": [
    {
     "data": {
      "text/plain": [
       "(40201, 11)"
      ]
     },
     "execution_count": 9,
     "metadata": {},
     "output_type": "execute_result"
    }
   ],
   "execution_count": 9
  },
  {
   "metadata": {
    "ExecuteTime": {
     "end_time": "2025-03-08T20:00:16.107486Z",
     "start_time": "2025-03-08T20:00:16.084729Z"
    }
   },
   "cell_type": "code",
   "source": [
    "# Drop NA and check the shape of df\n",
    "df_covid_province=df_covid_province.dropna()\n",
    "df_covid_province.shape"
   ],
   "id": "91060cba388938c1",
   "outputs": [
    {
     "data": {
      "text/plain": [
       "(30422, 11)"
      ]
     },
     "execution_count": 10,
     "metadata": {},
     "output_type": "execute_result"
    }
   ],
   "execution_count": 10
  },
  {
   "metadata": {
    "ExecuteTime": {
     "end_time": "2025-03-08T20:00:16.164370Z",
     "start_time": "2025-03-08T20:00:16.158518Z"
    }
   },
   "cell_type": "code",
   "source": "df_covid_province.head()",
   "id": "d585ca98c9eff554",
   "outputs": [
    {
     "data": {
      "text/plain": [
       "   SNo        Date Country  RegionCode      Region  ProvinceCode ProvinceName  \\\n",
       "0    0  2020-02-24     ITA          13     Abruzzo            66     L'Aquila   \n",
       "1    1  2020-02-24     ITA          13     Abruzzo            67       Teramo   \n",
       "2    2  2020-02-24     ITA          13     Abruzzo            68      Pescara   \n",
       "3    3  2020-02-24     ITA          13     Abruzzo            69       Chieti   \n",
       "5    5  2020-02-24     ITA          17  Basilicata            76      Potenza   \n",
       "\n",
       "  ProvinceAbbreviation   Latitude  Longitude  TotalPositiveCases  \n",
       "0                   AQ  42.351222  13.398438                   0  \n",
       "1                   TE  42.658918  13.704400                   0  \n",
       "2                   PE  42.464584  14.213648                   0  \n",
       "3                   CH  42.351032  14.167546                   0  \n",
       "5                   PZ  40.639471  15.805148                   0  "
      ],
      "text/html": [
       "<div>\n",
       "<style scoped>\n",
       "    .dataframe tbody tr th:only-of-type {\n",
       "        vertical-align: middle;\n",
       "    }\n",
       "\n",
       "    .dataframe tbody tr th {\n",
       "        vertical-align: top;\n",
       "    }\n",
       "\n",
       "    .dataframe thead th {\n",
       "        text-align: right;\n",
       "    }\n",
       "</style>\n",
       "<table border=\"1\" class=\"dataframe\">\n",
       "  <thead>\n",
       "    <tr style=\"text-align: right;\">\n",
       "      <th></th>\n",
       "      <th>SNo</th>\n",
       "      <th>Date</th>\n",
       "      <th>Country</th>\n",
       "      <th>RegionCode</th>\n",
       "      <th>Region</th>\n",
       "      <th>ProvinceCode</th>\n",
       "      <th>ProvinceName</th>\n",
       "      <th>ProvinceAbbreviation</th>\n",
       "      <th>Latitude</th>\n",
       "      <th>Longitude</th>\n",
       "      <th>TotalPositiveCases</th>\n",
       "    </tr>\n",
       "  </thead>\n",
       "  <tbody>\n",
       "    <tr>\n",
       "      <th>0</th>\n",
       "      <td>0</td>\n",
       "      <td>2020-02-24</td>\n",
       "      <td>ITA</td>\n",
       "      <td>13</td>\n",
       "      <td>Abruzzo</td>\n",
       "      <td>66</td>\n",
       "      <td>L'Aquila</td>\n",
       "      <td>AQ</td>\n",
       "      <td>42.351222</td>\n",
       "      <td>13.398438</td>\n",
       "      <td>0</td>\n",
       "    </tr>\n",
       "    <tr>\n",
       "      <th>1</th>\n",
       "      <td>1</td>\n",
       "      <td>2020-02-24</td>\n",
       "      <td>ITA</td>\n",
       "      <td>13</td>\n",
       "      <td>Abruzzo</td>\n",
       "      <td>67</td>\n",
       "      <td>Teramo</td>\n",
       "      <td>TE</td>\n",
       "      <td>42.658918</td>\n",
       "      <td>13.704400</td>\n",
       "      <td>0</td>\n",
       "    </tr>\n",
       "    <tr>\n",
       "      <th>2</th>\n",
       "      <td>2</td>\n",
       "      <td>2020-02-24</td>\n",
       "      <td>ITA</td>\n",
       "      <td>13</td>\n",
       "      <td>Abruzzo</td>\n",
       "      <td>68</td>\n",
       "      <td>Pescara</td>\n",
       "      <td>PE</td>\n",
       "      <td>42.464584</td>\n",
       "      <td>14.213648</td>\n",
       "      <td>0</td>\n",
       "    </tr>\n",
       "    <tr>\n",
       "      <th>3</th>\n",
       "      <td>3</td>\n",
       "      <td>2020-02-24</td>\n",
       "      <td>ITA</td>\n",
       "      <td>13</td>\n",
       "      <td>Abruzzo</td>\n",
       "      <td>69</td>\n",
       "      <td>Chieti</td>\n",
       "      <td>CH</td>\n",
       "      <td>42.351032</td>\n",
       "      <td>14.167546</td>\n",
       "      <td>0</td>\n",
       "    </tr>\n",
       "    <tr>\n",
       "      <th>5</th>\n",
       "      <td>5</td>\n",
       "      <td>2020-02-24</td>\n",
       "      <td>ITA</td>\n",
       "      <td>17</td>\n",
       "      <td>Basilicata</td>\n",
       "      <td>76</td>\n",
       "      <td>Potenza</td>\n",
       "      <td>PZ</td>\n",
       "      <td>40.639471</td>\n",
       "      <td>15.805148</td>\n",
       "      <td>0</td>\n",
       "    </tr>\n",
       "  </tbody>\n",
       "</table>\n",
       "</div>"
      ]
     },
     "execution_count": 11,
     "metadata": {},
     "output_type": "execute_result"
    }
   ],
   "execution_count": 11
  },
  {
   "metadata": {
    "ExecuteTime": {
     "end_time": "2025-03-08T20:00:16.211133Z",
     "start_time": "2025-03-08T20:00:16.205631Z"
    }
   },
   "cell_type": "code",
   "source": [
    "# Drop the 'SNo' column\n",
    "df_covid_province.drop(['SNo'], axis=1, inplace=True)\n",
    "\n",
    "# Reset the index\n",
    "df_covid_province.reset_index(drop=True, inplace=True)\n"
   ],
   "id": "e0b0a35cd1ce2f80",
   "outputs": [],
   "execution_count": 12
  },
  {
   "metadata": {
    "ExecuteTime": {
     "end_time": "2025-03-08T20:00:16.247949Z",
     "start_time": "2025-03-08T20:00:16.239745Z"
    }
   },
   "cell_type": "code",
   "source": "df_covid_province.head()",
   "id": "f58fd834a462fbb1",
   "outputs": [
    {
     "data": {
      "text/plain": [
       "         Date Country  RegionCode      Region  ProvinceCode ProvinceName  \\\n",
       "0  2020-02-24     ITA          13     Abruzzo            66     L'Aquila   \n",
       "1  2020-02-24     ITA          13     Abruzzo            67       Teramo   \n",
       "2  2020-02-24     ITA          13     Abruzzo            68      Pescara   \n",
       "3  2020-02-24     ITA          13     Abruzzo            69       Chieti   \n",
       "4  2020-02-24     ITA          17  Basilicata            76      Potenza   \n",
       "\n",
       "  ProvinceAbbreviation   Latitude  Longitude  TotalPositiveCases  \n",
       "0                   AQ  42.351222  13.398438                   0  \n",
       "1                   TE  42.658918  13.704400                   0  \n",
       "2                   PE  42.464584  14.213648                   0  \n",
       "3                   CH  42.351032  14.167546                   0  \n",
       "4                   PZ  40.639471  15.805148                   0  "
      ],
      "text/html": [
       "<div>\n",
       "<style scoped>\n",
       "    .dataframe tbody tr th:only-of-type {\n",
       "        vertical-align: middle;\n",
       "    }\n",
       "\n",
       "    .dataframe tbody tr th {\n",
       "        vertical-align: top;\n",
       "    }\n",
       "\n",
       "    .dataframe thead th {\n",
       "        text-align: right;\n",
       "    }\n",
       "</style>\n",
       "<table border=\"1\" class=\"dataframe\">\n",
       "  <thead>\n",
       "    <tr style=\"text-align: right;\">\n",
       "      <th></th>\n",
       "      <th>Date</th>\n",
       "      <th>Country</th>\n",
       "      <th>RegionCode</th>\n",
       "      <th>Region</th>\n",
       "      <th>ProvinceCode</th>\n",
       "      <th>ProvinceName</th>\n",
       "      <th>ProvinceAbbreviation</th>\n",
       "      <th>Latitude</th>\n",
       "      <th>Longitude</th>\n",
       "      <th>TotalPositiveCases</th>\n",
       "    </tr>\n",
       "  </thead>\n",
       "  <tbody>\n",
       "    <tr>\n",
       "      <th>0</th>\n",
       "      <td>2020-02-24</td>\n",
       "      <td>ITA</td>\n",
       "      <td>13</td>\n",
       "      <td>Abruzzo</td>\n",
       "      <td>66</td>\n",
       "      <td>L'Aquila</td>\n",
       "      <td>AQ</td>\n",
       "      <td>42.351222</td>\n",
       "      <td>13.398438</td>\n",
       "      <td>0</td>\n",
       "    </tr>\n",
       "    <tr>\n",
       "      <th>1</th>\n",
       "      <td>2020-02-24</td>\n",
       "      <td>ITA</td>\n",
       "      <td>13</td>\n",
       "      <td>Abruzzo</td>\n",
       "      <td>67</td>\n",
       "      <td>Teramo</td>\n",
       "      <td>TE</td>\n",
       "      <td>42.658918</td>\n",
       "      <td>13.704400</td>\n",
       "      <td>0</td>\n",
       "    </tr>\n",
       "    <tr>\n",
       "      <th>2</th>\n",
       "      <td>2020-02-24</td>\n",
       "      <td>ITA</td>\n",
       "      <td>13</td>\n",
       "      <td>Abruzzo</td>\n",
       "      <td>68</td>\n",
       "      <td>Pescara</td>\n",
       "      <td>PE</td>\n",
       "      <td>42.464584</td>\n",
       "      <td>14.213648</td>\n",
       "      <td>0</td>\n",
       "    </tr>\n",
       "    <tr>\n",
       "      <th>3</th>\n",
       "      <td>2020-02-24</td>\n",
       "      <td>ITA</td>\n",
       "      <td>13</td>\n",
       "      <td>Abruzzo</td>\n",
       "      <td>69</td>\n",
       "      <td>Chieti</td>\n",
       "      <td>CH</td>\n",
       "      <td>42.351032</td>\n",
       "      <td>14.167546</td>\n",
       "      <td>0</td>\n",
       "    </tr>\n",
       "    <tr>\n",
       "      <th>4</th>\n",
       "      <td>2020-02-24</td>\n",
       "      <td>ITA</td>\n",
       "      <td>17</td>\n",
       "      <td>Basilicata</td>\n",
       "      <td>76</td>\n",
       "      <td>Potenza</td>\n",
       "      <td>PZ</td>\n",
       "      <td>40.639471</td>\n",
       "      <td>15.805148</td>\n",
       "      <td>0</td>\n",
       "    </tr>\n",
       "  </tbody>\n",
       "</table>\n",
       "</div>"
      ]
     },
     "execution_count": 13,
     "metadata": {},
     "output_type": "execute_result"
    }
   ],
   "execution_count": 13
  },
  {
   "metadata": {
    "ExecuteTime": {
     "end_time": "2025-03-08T20:00:16.307816Z",
     "start_time": "2025-03-08T20:00:16.303358Z"
    }
   },
   "cell_type": "code",
   "source": [
    "# print number of unique regions and provinces\n",
    "print(df_covid_province.Region.nunique())\n",
    "print(df_covid_province.ProvinceName.nunique())"
   ],
   "id": "a284a2398a01abb2",
   "outputs": [
    {
     "name": "stdout",
     "output_type": "stream",
     "text": [
      "21\n",
      "106\n"
     ]
    }
   ],
   "execution_count": 14
  },
  {
   "metadata": {
    "ExecuteTime": {
     "end_time": "2025-03-08T20:00:16.353246Z",
     "start_time": "2025-03-08T20:00:16.349414Z"
    }
   },
   "cell_type": "code",
   "source": "df_covid_province.ProvinceName.unique() # Check unique ProvinceNames",
   "id": "a2336cbcf6475538",
   "outputs": [
    {
     "data": {
      "text/plain": [
       "array([\"L'Aquila\", 'Teramo', 'Pescara', 'Chieti', 'Potenza', 'Matera',\n",
       "       'Cosenza', 'Catanzaro', 'Reggio di Calabria', 'Crotone',\n",
       "       'Vibo Valentia', 'Caserta', 'Benevento', 'Avellino', 'Salerno',\n",
       "       'Piacenza', 'Parma', \"Reggio nell'Emilia\", 'Modena', 'Bologna',\n",
       "       'Ferrara', 'Ravenna', 'Forlì-Cesena', 'Rimini', 'Udine', 'Gorizia',\n",
       "       'Trieste', 'Pordenone', 'Viterbo', 'Rieti', 'Roma', 'Latina',\n",
       "       'Frosinone', 'Imperia', 'Savona', 'Genova', 'La Spezia', 'Varese',\n",
       "       'Como', 'Sondrio', 'Milano', 'Bergamo', 'Brescia', 'Pavia',\n",
       "       'Cremona', 'Mantova', 'Lecco', 'Lodi', 'Monza e della Brianza',\n",
       "       'Pesaro e Urbino', 'Ancona', 'Macerata', 'Ascoli Piceno', 'Fermo',\n",
       "       'Campobasso', 'Isernia', 'Bolzano', 'Trento', 'Torino', 'Vercelli',\n",
       "       'Novara', 'Cuneo', 'Asti', 'Alessandria', 'Biella',\n",
       "       'Verbano-Cusio-Ossola', 'Foggia', 'Bari', 'Taranto', 'Brindisi',\n",
       "       'Lecce', 'Barletta-Andria-Trani', 'Sassari', 'Nuoro', 'Cagliari',\n",
       "       'Oristano', 'Sud Sardegna', 'Trapani', 'Palermo', 'Messina',\n",
       "       'Agrigento', 'Caltanissetta', 'Enna', 'Catania', 'Ragusa',\n",
       "       'Siracusa', 'Massa Carrara', 'Lucca', 'Pistoia', 'Firenze',\n",
       "       'Livorno', 'Pisa', 'Arezzo', 'Siena', 'Grosseto', 'Prato',\n",
       "       'Perugia', 'Terni', 'Aosta', 'Verona', 'Vicenza', 'Belluno',\n",
       "       'Treviso', 'Venezia', 'Padova', 'Rovigo'], dtype=object)"
      ]
     },
     "execution_count": 15,
     "metadata": {},
     "output_type": "execute_result"
    }
   ],
   "execution_count": 15
  },
  {
   "metadata": {
    "ExecuteTime": {
     "end_time": "2025-03-08T20:00:16.422463Z",
     "start_time": "2025-03-08T20:00:16.414715Z"
    }
   },
   "cell_type": "code",
   "source": "df_covid_province.isna().sum() # Recheck for sum of NA values",
   "id": "957c65929d388b36",
   "outputs": [
    {
     "data": {
      "text/plain": [
       "Date                    0\n",
       "Country                 0\n",
       "RegionCode              0\n",
       "Region                  0\n",
       "ProvinceCode            0\n",
       "ProvinceName            0\n",
       "ProvinceAbbreviation    0\n",
       "Latitude                0\n",
       "Longitude               0\n",
       "TotalPositiveCases      0\n",
       "dtype: int64"
      ]
     },
     "execution_count": 16,
     "metadata": {},
     "output_type": "execute_result"
    }
   ],
   "execution_count": 16
  },
  {
   "metadata": {
    "ExecuteTime": {
     "end_time": "2025-03-08T20:00:16.473731Z",
     "start_time": "2025-03-08T20:00:16.457544Z"
    }
   },
   "cell_type": "code",
   "source": "df_covid_province.describe()",
   "id": "81b28ab59e346000",
   "outputs": [
    {
     "data": {
      "text/plain": [
       "         RegionCode  ProvinceCode      Latitude     Longitude  \\\n",
       "count  30422.000000  30422.000000  30422.000000  30422.000000   \n",
       "mean      10.225265     54.066038     42.928040     12.076275   \n",
       "std        6.007691     31.279619      2.636216      2.664831   \n",
       "min        1.000000      1.000000     36.925092      7.320149   \n",
       "25%        5.000000     27.000000     41.074659      9.828190   \n",
       "50%        9.000000     53.500000     43.742381     12.072710   \n",
       "75%       16.000000     81.000000     45.185093     14.061850   \n",
       "max       22.000000    111.000000     46.499335     18.171897   \n",
       "\n",
       "       TotalPositiveCases  \n",
       "count        30422.000000  \n",
       "mean          3195.726349  \n",
       "std           7313.303588  \n",
       "min              0.000000  \n",
       "25%            382.000000  \n",
       "50%           1099.500000  \n",
       "75%           3496.000000  \n",
       "max         158717.000000  "
      ],
      "text/html": [
       "<div>\n",
       "<style scoped>\n",
       "    .dataframe tbody tr th:only-of-type {\n",
       "        vertical-align: middle;\n",
       "    }\n",
       "\n",
       "    .dataframe tbody tr th {\n",
       "        vertical-align: top;\n",
       "    }\n",
       "\n",
       "    .dataframe thead th {\n",
       "        text-align: right;\n",
       "    }\n",
       "</style>\n",
       "<table border=\"1\" class=\"dataframe\">\n",
       "  <thead>\n",
       "    <tr style=\"text-align: right;\">\n",
       "      <th></th>\n",
       "      <th>RegionCode</th>\n",
       "      <th>ProvinceCode</th>\n",
       "      <th>Latitude</th>\n",
       "      <th>Longitude</th>\n",
       "      <th>TotalPositiveCases</th>\n",
       "    </tr>\n",
       "  </thead>\n",
       "  <tbody>\n",
       "    <tr>\n",
       "      <th>count</th>\n",
       "      <td>30422.000000</td>\n",
       "      <td>30422.000000</td>\n",
       "      <td>30422.000000</td>\n",
       "      <td>30422.000000</td>\n",
       "      <td>30422.000000</td>\n",
       "    </tr>\n",
       "    <tr>\n",
       "      <th>mean</th>\n",
       "      <td>10.225265</td>\n",
       "      <td>54.066038</td>\n",
       "      <td>42.928040</td>\n",
       "      <td>12.076275</td>\n",
       "      <td>3195.726349</td>\n",
       "    </tr>\n",
       "    <tr>\n",
       "      <th>std</th>\n",
       "      <td>6.007691</td>\n",
       "      <td>31.279619</td>\n",
       "      <td>2.636216</td>\n",
       "      <td>2.664831</td>\n",
       "      <td>7313.303588</td>\n",
       "    </tr>\n",
       "    <tr>\n",
       "      <th>min</th>\n",
       "      <td>1.000000</td>\n",
       "      <td>1.000000</td>\n",
       "      <td>36.925092</td>\n",
       "      <td>7.320149</td>\n",
       "      <td>0.000000</td>\n",
       "    </tr>\n",
       "    <tr>\n",
       "      <th>25%</th>\n",
       "      <td>5.000000</td>\n",
       "      <td>27.000000</td>\n",
       "      <td>41.074659</td>\n",
       "      <td>9.828190</td>\n",
       "      <td>382.000000</td>\n",
       "    </tr>\n",
       "    <tr>\n",
       "      <th>50%</th>\n",
       "      <td>9.000000</td>\n",
       "      <td>53.500000</td>\n",
       "      <td>43.742381</td>\n",
       "      <td>12.072710</td>\n",
       "      <td>1099.500000</td>\n",
       "    </tr>\n",
       "    <tr>\n",
       "      <th>75%</th>\n",
       "      <td>16.000000</td>\n",
       "      <td>81.000000</td>\n",
       "      <td>45.185093</td>\n",
       "      <td>14.061850</td>\n",
       "      <td>3496.000000</td>\n",
       "    </tr>\n",
       "    <tr>\n",
       "      <th>max</th>\n",
       "      <td>22.000000</td>\n",
       "      <td>111.000000</td>\n",
       "      <td>46.499335</td>\n",
       "      <td>18.171897</td>\n",
       "      <td>158717.000000</td>\n",
       "    </tr>\n",
       "  </tbody>\n",
       "</table>\n",
       "</div>"
      ]
     },
     "execution_count": 17,
     "metadata": {},
     "output_type": "execute_result"
    }
   ],
   "execution_count": 17
  },
  {
   "metadata": {
    "ExecuteTime": {
     "end_time": "2025-03-08T20:00:16.518115Z",
     "start_time": "2025-03-08T20:00:16.508231Z"
    }
   },
   "cell_type": "code",
   "source": "df_covid_province.info()",
   "id": "6fc6be8fbfc7f830",
   "outputs": [
    {
     "name": "stdout",
     "output_type": "stream",
     "text": [
      "<class 'pandas.core.frame.DataFrame'>\n",
      "RangeIndex: 30422 entries, 0 to 30421\n",
      "Data columns (total 10 columns):\n",
      " #   Column                Non-Null Count  Dtype  \n",
      "---  ------                --------------  -----  \n",
      " 0   Date                  30422 non-null  object \n",
      " 1   Country               30422 non-null  object \n",
      " 2   RegionCode            30422 non-null  int64  \n",
      " 3   Region                30422 non-null  object \n",
      " 4   ProvinceCode          30422 non-null  int64  \n",
      " 5   ProvinceName          30422 non-null  object \n",
      " 6   ProvinceAbbreviation  30422 non-null  object \n",
      " 7   Latitude              30422 non-null  float64\n",
      " 8   Longitude             30422 non-null  float64\n",
      " 9   TotalPositiveCases    30422 non-null  int64  \n",
      "dtypes: float64(2), int64(3), object(5)\n",
      "memory usage: 2.3+ MB\n"
     ]
    }
   ],
   "execution_count": 18
  },
  {
   "metadata": {
    "ExecuteTime": {
     "end_time": "2025-03-08T20:00:16.688375Z",
     "start_time": "2025-03-08T20:00:16.676922Z"
    }
   },
   "cell_type": "code",
   "source": [
    "# Convert Date into datetime format\n",
    "df_covid_province['Date'] = pd.to_datetime(df_covid_province['Date'], format = \"%Y-%m-%d\")"
   ],
   "id": "1f1a4c88e9a1fe8f",
   "outputs": [],
   "execution_count": 19
  },
  {
   "metadata": {
    "ExecuteTime": {
     "end_time": "2025-03-08T20:00:16.731324Z",
     "start_time": "2025-03-08T20:00:16.722761Z"
    }
   },
   "cell_type": "code",
   "source": [
    "# Rename columns\n",
    "df_covid_province.columns = ['Date', 'Country', 'RegionCode', 'RegionName', 'ProvinceCode', 'ProvinceName', 'ProvinceAbbreviation', 'Latitude', 'Longitude', 'TotalPositiveCases']\n",
    "df_covid_province.info()"
   ],
   "id": "f80ca3c35e6cbe80",
   "outputs": [
    {
     "name": "stdout",
     "output_type": "stream",
     "text": [
      "<class 'pandas.core.frame.DataFrame'>\n",
      "RangeIndex: 30422 entries, 0 to 30421\n",
      "Data columns (total 10 columns):\n",
      " #   Column                Non-Null Count  Dtype         \n",
      "---  ------                --------------  -----         \n",
      " 0   Date                  30422 non-null  datetime64[ns]\n",
      " 1   Country               30422 non-null  object        \n",
      " 2   RegionCode            30422 non-null  int64         \n",
      " 3   RegionName            30422 non-null  object        \n",
      " 4   ProvinceCode          30422 non-null  int64         \n",
      " 5   ProvinceName          30422 non-null  object        \n",
      " 6   ProvinceAbbreviation  30422 non-null  object        \n",
      " 7   Latitude              30422 non-null  float64       \n",
      " 8   Longitude             30422 non-null  float64       \n",
      " 9   TotalPositiveCases    30422 non-null  int64         \n",
      "dtypes: datetime64[ns](1), float64(2), int64(3), object(4)\n",
      "memory usage: 2.3+ MB\n"
     ]
    }
   ],
   "execution_count": 20
  },
  {
   "metadata": {
    "ExecuteTime": {
     "end_time": "2025-03-08T20:00:16.842745Z",
     "start_time": "2025-03-08T20:00:16.834530Z"
    }
   },
   "cell_type": "code",
   "source": [
    "cleaned_df_covid_province = df_covid_province # Finalized version\n",
    "cleaned_df_covid_province.head()"
   ],
   "id": "472d481590543ac8",
   "outputs": [
    {
     "data": {
      "text/plain": [
       "        Date Country  RegionCode  RegionName  ProvinceCode ProvinceName  \\\n",
       "0 2020-02-24     ITA          13     Abruzzo            66     L'Aquila   \n",
       "1 2020-02-24     ITA          13     Abruzzo            67       Teramo   \n",
       "2 2020-02-24     ITA          13     Abruzzo            68      Pescara   \n",
       "3 2020-02-24     ITA          13     Abruzzo            69       Chieti   \n",
       "4 2020-02-24     ITA          17  Basilicata            76      Potenza   \n",
       "\n",
       "  ProvinceAbbreviation   Latitude  Longitude  TotalPositiveCases  \n",
       "0                   AQ  42.351222  13.398438                   0  \n",
       "1                   TE  42.658918  13.704400                   0  \n",
       "2                   PE  42.464584  14.213648                   0  \n",
       "3                   CH  42.351032  14.167546                   0  \n",
       "4                   PZ  40.639471  15.805148                   0  "
      ],
      "text/html": [
       "<div>\n",
       "<style scoped>\n",
       "    .dataframe tbody tr th:only-of-type {\n",
       "        vertical-align: middle;\n",
       "    }\n",
       "\n",
       "    .dataframe tbody tr th {\n",
       "        vertical-align: top;\n",
       "    }\n",
       "\n",
       "    .dataframe thead th {\n",
       "        text-align: right;\n",
       "    }\n",
       "</style>\n",
       "<table border=\"1\" class=\"dataframe\">\n",
       "  <thead>\n",
       "    <tr style=\"text-align: right;\">\n",
       "      <th></th>\n",
       "      <th>Date</th>\n",
       "      <th>Country</th>\n",
       "      <th>RegionCode</th>\n",
       "      <th>RegionName</th>\n",
       "      <th>ProvinceCode</th>\n",
       "      <th>ProvinceName</th>\n",
       "      <th>ProvinceAbbreviation</th>\n",
       "      <th>Latitude</th>\n",
       "      <th>Longitude</th>\n",
       "      <th>TotalPositiveCases</th>\n",
       "    </tr>\n",
       "  </thead>\n",
       "  <tbody>\n",
       "    <tr>\n",
       "      <th>0</th>\n",
       "      <td>2020-02-24</td>\n",
       "      <td>ITA</td>\n",
       "      <td>13</td>\n",
       "      <td>Abruzzo</td>\n",
       "      <td>66</td>\n",
       "      <td>L'Aquila</td>\n",
       "      <td>AQ</td>\n",
       "      <td>42.351222</td>\n",
       "      <td>13.398438</td>\n",
       "      <td>0</td>\n",
       "    </tr>\n",
       "    <tr>\n",
       "      <th>1</th>\n",
       "      <td>2020-02-24</td>\n",
       "      <td>ITA</td>\n",
       "      <td>13</td>\n",
       "      <td>Abruzzo</td>\n",
       "      <td>67</td>\n",
       "      <td>Teramo</td>\n",
       "      <td>TE</td>\n",
       "      <td>42.658918</td>\n",
       "      <td>13.704400</td>\n",
       "      <td>0</td>\n",
       "    </tr>\n",
       "    <tr>\n",
       "      <th>2</th>\n",
       "      <td>2020-02-24</td>\n",
       "      <td>ITA</td>\n",
       "      <td>13</td>\n",
       "      <td>Abruzzo</td>\n",
       "      <td>68</td>\n",
       "      <td>Pescara</td>\n",
       "      <td>PE</td>\n",
       "      <td>42.464584</td>\n",
       "      <td>14.213648</td>\n",
       "      <td>0</td>\n",
       "    </tr>\n",
       "    <tr>\n",
       "      <th>3</th>\n",
       "      <td>2020-02-24</td>\n",
       "      <td>ITA</td>\n",
       "      <td>13</td>\n",
       "      <td>Abruzzo</td>\n",
       "      <td>69</td>\n",
       "      <td>Chieti</td>\n",
       "      <td>CH</td>\n",
       "      <td>42.351032</td>\n",
       "      <td>14.167546</td>\n",
       "      <td>0</td>\n",
       "    </tr>\n",
       "    <tr>\n",
       "      <th>4</th>\n",
       "      <td>2020-02-24</td>\n",
       "      <td>ITA</td>\n",
       "      <td>17</td>\n",
       "      <td>Basilicata</td>\n",
       "      <td>76</td>\n",
       "      <td>Potenza</td>\n",
       "      <td>PZ</td>\n",
       "      <td>40.639471</td>\n",
       "      <td>15.805148</td>\n",
       "      <td>0</td>\n",
       "    </tr>\n",
       "  </tbody>\n",
       "</table>\n",
       "</div>"
      ]
     },
     "execution_count": 21,
     "metadata": {},
     "output_type": "execute_result"
    }
   ],
   "execution_count": 21
  },
  {
   "metadata": {
    "ExecuteTime": {
     "end_time": "2025-03-08T20:00:16.880660Z",
     "start_time": "2025-03-08T20:00:16.874486Z"
    }
   },
   "cell_type": "code",
   "source": "cleaned_df_covid_province.to_pickle(\"../Cleaned_datasets/cleaned_df_covid_province.pkl\")",
   "id": "bcbe25245e7b44d0",
   "outputs": [],
   "execution_count": 22
  },
  {
   "metadata": {
    "ExecuteTime": {
     "end_time": "2025-03-08T20:00:16.914518Z",
     "start_time": "2025-03-08T20:00:16.911897Z"
    }
   },
   "cell_type": "code",
   "source": "# To load - df = pd.read_pickle(\"Cleaned_datasets/cleaned_df_covid_province.pkl\")",
   "id": "52e04bab7bac579a",
   "outputs": [],
   "execution_count": 23
  }
 ],
 "metadata": {
  "kernelspec": {
   "display_name": "Python 3",
   "language": "python",
   "name": "python3"
  },
  "language_info": {
   "codemirror_mode": {
    "name": "ipython",
    "version": 2
   },
   "file_extension": ".py",
   "mimetype": "text/x-python",
   "name": "python",
   "nbconvert_exporter": "python",
   "pygments_lexer": "ipython2",
   "version": "2.7.6"
  }
 },
 "nbformat": 4,
 "nbformat_minor": 5
}
