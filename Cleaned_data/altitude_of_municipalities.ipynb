{
 "cells": [
  {
   "metadata": {
    "ExecuteTime": {
     "end_time": "2025-03-03T19:32:46.143150Z",
     "start_time": "2025-03-03T19:32:46.135845Z"
    }
   },
   "cell_type": "code",
   "source": [
    "import pandas as pd\n",
    "import re"
   ],
   "id": "9b20f08aa42ddc50",
   "outputs": [],
   "execution_count": 19
  },
  {
   "metadata": {
    "ExecuteTime": {
     "end_time": "2025-03-03T19:32:46.725605Z",
     "start_time": "2025-03-03T19:32:46.201019Z"
    }
   },
   "cell_type": "code",
   "source": [
    "df_alt_of_mun = pd.read_excel(\"../Datasets/Altitude_of_municipalities.xlsx\", engine=\"openpyxl\")\n",
    "df_alt_of_mun.head(10)"
   ],
   "id": "6ea5b4364cd27db0",
   "outputs": [
    {
     "data": {
      "text/plain": [
       "   COD_REG  COD_PRO  PRO_COM                  NOME  SUPERFICIE (in KMQ)  \\\n",
       "0       12       58    58120             Fiumicino             213.8944   \n",
       "1        5       29    29001                 Adria             113.3900   \n",
       "2        5       29    29030                 Loreo              39.8442   \n",
       "3        5       29    29052            Porto Viro             133.7686   \n",
       "4        8       38    38017             Ostellato             173.3434   \n",
       "5        5       27    27010                  Cona              65.1121   \n",
       "6        5       27    27008              Chioggia             187.9141   \n",
       "7        5       27    27006             Cavarzere             140.4396   \n",
       "8        5       27    27005                Caorle             153.8363   \n",
       "9        5       27    27011  Concordia Sagittaria              66.8359   \n",
       "\n",
       "   ALT_MIN  ALT_MAX  RANGE      MEDIA  MEDIANA        STD  \n",
       "0       -3      164    167  31.688450        5  39.686070  \n",
       "1       -3        8     11   1.057863        1   1.244239  \n",
       "2       -3        7     10   0.464185        0   0.770743  \n",
       "3       -3        6      9   0.555705        1   0.553657  \n",
       "4       -3        8     11   1.784421        1   0.977924  \n",
       "5       -3        8     11   0.562878        0   0.982815  \n",
       "6       -3        6      9   0.638074        0   0.931072  \n",
       "7       -3       10     13   0.705173        0   1.208494  \n",
       "8       -3        5      8   1.039616        1   0.278419  \n",
       "9       -2        5      7   2.133007        2   1.087725  "
      ],
      "text/html": [
       "<div>\n",
       "<style scoped>\n",
       "    .dataframe tbody tr th:only-of-type {\n",
       "        vertical-align: middle;\n",
       "    }\n",
       "\n",
       "    .dataframe tbody tr th {\n",
       "        vertical-align: top;\n",
       "    }\n",
       "\n",
       "    .dataframe thead th {\n",
       "        text-align: right;\n",
       "    }\n",
       "</style>\n",
       "<table border=\"1\" class=\"dataframe\">\n",
       "  <thead>\n",
       "    <tr style=\"text-align: right;\">\n",
       "      <th></th>\n",
       "      <th>COD_REG</th>\n",
       "      <th>COD_PRO</th>\n",
       "      <th>PRO_COM</th>\n",
       "      <th>NOME</th>\n",
       "      <th>SUPERFICIE (in KMQ)</th>\n",
       "      <th>ALT_MIN</th>\n",
       "      <th>ALT_MAX</th>\n",
       "      <th>RANGE</th>\n",
       "      <th>MEDIA</th>\n",
       "      <th>MEDIANA</th>\n",
       "      <th>STD</th>\n",
       "    </tr>\n",
       "  </thead>\n",
       "  <tbody>\n",
       "    <tr>\n",
       "      <th>0</th>\n",
       "      <td>12</td>\n",
       "      <td>58</td>\n",
       "      <td>58120</td>\n",
       "      <td>Fiumicino</td>\n",
       "      <td>213.8944</td>\n",
       "      <td>-3</td>\n",
       "      <td>164</td>\n",
       "      <td>167</td>\n",
       "      <td>31.688450</td>\n",
       "      <td>5</td>\n",
       "      <td>39.686070</td>\n",
       "    </tr>\n",
       "    <tr>\n",
       "      <th>1</th>\n",
       "      <td>5</td>\n",
       "      <td>29</td>\n",
       "      <td>29001</td>\n",
       "      <td>Adria</td>\n",
       "      <td>113.3900</td>\n",
       "      <td>-3</td>\n",
       "      <td>8</td>\n",
       "      <td>11</td>\n",
       "      <td>1.057863</td>\n",
       "      <td>1</td>\n",
       "      <td>1.244239</td>\n",
       "    </tr>\n",
       "    <tr>\n",
       "      <th>2</th>\n",
       "      <td>5</td>\n",
       "      <td>29</td>\n",
       "      <td>29030</td>\n",
       "      <td>Loreo</td>\n",
       "      <td>39.8442</td>\n",
       "      <td>-3</td>\n",
       "      <td>7</td>\n",
       "      <td>10</td>\n",
       "      <td>0.464185</td>\n",
       "      <td>0</td>\n",
       "      <td>0.770743</td>\n",
       "    </tr>\n",
       "    <tr>\n",
       "      <th>3</th>\n",
       "      <td>5</td>\n",
       "      <td>29</td>\n",
       "      <td>29052</td>\n",
       "      <td>Porto Viro</td>\n",
       "      <td>133.7686</td>\n",
       "      <td>-3</td>\n",
       "      <td>6</td>\n",
       "      <td>9</td>\n",
       "      <td>0.555705</td>\n",
       "      <td>1</td>\n",
       "      <td>0.553657</td>\n",
       "    </tr>\n",
       "    <tr>\n",
       "      <th>4</th>\n",
       "      <td>8</td>\n",
       "      <td>38</td>\n",
       "      <td>38017</td>\n",
       "      <td>Ostellato</td>\n",
       "      <td>173.3434</td>\n",
       "      <td>-3</td>\n",
       "      <td>8</td>\n",
       "      <td>11</td>\n",
       "      <td>1.784421</td>\n",
       "      <td>1</td>\n",
       "      <td>0.977924</td>\n",
       "    </tr>\n",
       "    <tr>\n",
       "      <th>5</th>\n",
       "      <td>5</td>\n",
       "      <td>27</td>\n",
       "      <td>27010</td>\n",
       "      <td>Cona</td>\n",
       "      <td>65.1121</td>\n",
       "      <td>-3</td>\n",
       "      <td>8</td>\n",
       "      <td>11</td>\n",
       "      <td>0.562878</td>\n",
       "      <td>0</td>\n",
       "      <td>0.982815</td>\n",
       "    </tr>\n",
       "    <tr>\n",
       "      <th>6</th>\n",
       "      <td>5</td>\n",
       "      <td>27</td>\n",
       "      <td>27008</td>\n",
       "      <td>Chioggia</td>\n",
       "      <td>187.9141</td>\n",
       "      <td>-3</td>\n",
       "      <td>6</td>\n",
       "      <td>9</td>\n",
       "      <td>0.638074</td>\n",
       "      <td>0</td>\n",
       "      <td>0.931072</td>\n",
       "    </tr>\n",
       "    <tr>\n",
       "      <th>7</th>\n",
       "      <td>5</td>\n",
       "      <td>27</td>\n",
       "      <td>27006</td>\n",
       "      <td>Cavarzere</td>\n",
       "      <td>140.4396</td>\n",
       "      <td>-3</td>\n",
       "      <td>10</td>\n",
       "      <td>13</td>\n",
       "      <td>0.705173</td>\n",
       "      <td>0</td>\n",
       "      <td>1.208494</td>\n",
       "    </tr>\n",
       "    <tr>\n",
       "      <th>8</th>\n",
       "      <td>5</td>\n",
       "      <td>27</td>\n",
       "      <td>27005</td>\n",
       "      <td>Caorle</td>\n",
       "      <td>153.8363</td>\n",
       "      <td>-3</td>\n",
       "      <td>5</td>\n",
       "      <td>8</td>\n",
       "      <td>1.039616</td>\n",
       "      <td>1</td>\n",
       "      <td>0.278419</td>\n",
       "    </tr>\n",
       "    <tr>\n",
       "      <th>9</th>\n",
       "      <td>5</td>\n",
       "      <td>27</td>\n",
       "      <td>27011</td>\n",
       "      <td>Concordia Sagittaria</td>\n",
       "      <td>66.8359</td>\n",
       "      <td>-2</td>\n",
       "      <td>5</td>\n",
       "      <td>7</td>\n",
       "      <td>2.133007</td>\n",
       "      <td>2</td>\n",
       "      <td>1.087725</td>\n",
       "    </tr>\n",
       "  </tbody>\n",
       "</table>\n",
       "</div>"
      ]
     },
     "execution_count": 20,
     "metadata": {},
     "output_type": "execute_result"
    }
   ],
   "execution_count": 20
  },
  {
   "metadata": {
    "ExecuteTime": {
     "end_time": "2025-03-03T19:32:46.751140Z",
     "start_time": "2025-03-03T19:32:46.745270Z"
    }
   },
   "cell_type": "code",
   "source": "df_alt_of_mun.info()",
   "id": "e80eab30c19e349a",
   "outputs": [
    {
     "name": "stdout",
     "output_type": "stream",
     "text": [
      "<class 'pandas.core.frame.DataFrame'>\n",
      "RangeIndex: 8092 entries, 0 to 8091\n",
      "Data columns (total 11 columns):\n",
      " #   Column               Non-Null Count  Dtype  \n",
      "---  ------               --------------  -----  \n",
      " 0   COD_REG              8092 non-null   int64  \n",
      " 1   COD_PRO              8092 non-null   int64  \n",
      " 2   PRO_COM              8092 non-null   int64  \n",
      " 3   NOME                 8091 non-null   object \n",
      " 4   SUPERFICIE (in KMQ)  8092 non-null   float64\n",
      " 5   ALT_MIN              8092 non-null   int64  \n",
      " 6   ALT_MAX              8092 non-null   int64  \n",
      " 7   RANGE                8092 non-null   int64  \n",
      " 8   MEDIA                8092 non-null   float64\n",
      " 9   MEDIANA              8092 non-null   int64  \n",
      " 10  STD                  8092 non-null   float64\n",
      "dtypes: float64(3), int64(7), object(1)\n",
      "memory usage: 695.5+ KB\n"
     ]
    }
   ],
   "execution_count": 21
  },
  {
   "metadata": {
    "ExecuteTime": {
     "end_time": "2025-03-03T19:32:46.848061Z",
     "start_time": "2025-03-03T19:32:46.842198Z"
    }
   },
   "cell_type": "code",
   "source": "df_alt_of_mun.isna().sum()",
   "id": "21973f154fbb5537",
   "outputs": [
    {
     "data": {
      "text/plain": [
       "COD_REG                0\n",
       "COD_PRO                0\n",
       "PRO_COM                0\n",
       "NOME                   1\n",
       "SUPERFICIE (in KMQ)    0\n",
       "ALT_MIN                0\n",
       "ALT_MAX                0\n",
       "RANGE                  0\n",
       "MEDIA                  0\n",
       "MEDIANA                0\n",
       "STD                    0\n",
       "dtype: int64"
      ]
     },
     "execution_count": 22,
     "metadata": {},
     "output_type": "execute_result"
    }
   ],
   "execution_count": 22
  },
  {
   "metadata": {
    "ExecuteTime": {
     "end_time": "2025-03-03T19:32:46.896794Z",
     "start_time": "2025-03-03T19:32:46.890562Z"
    }
   },
   "cell_type": "code",
   "source": "df_alt_of_mun[df_alt_of_mun[\"NOME\"].isna()]",
   "id": "facf5b1db0aa0ab4",
   "outputs": [
    {
     "data": {
      "text/plain": [
       "      COD_REG  COD_PRO  PRO_COM NOME  SUPERFICIE (in KMQ)  ALT_MIN  ALT_MAX  \\\n",
       "5252        1        1     1168  NaN              24.6425      236      261   \n",
       "\n",
       "      RANGE     MEDIA  MEDIANA       STD  \n",
       "5252     25  244.6801      244  3.904581  "
      ],
      "text/html": [
       "<div>\n",
       "<style scoped>\n",
       "    .dataframe tbody tr th:only-of-type {\n",
       "        vertical-align: middle;\n",
       "    }\n",
       "\n",
       "    .dataframe tbody tr th {\n",
       "        vertical-align: top;\n",
       "    }\n",
       "\n",
       "    .dataframe thead th {\n",
       "        text-align: right;\n",
       "    }\n",
       "</style>\n",
       "<table border=\"1\" class=\"dataframe\">\n",
       "  <thead>\n",
       "    <tr style=\"text-align: right;\">\n",
       "      <th></th>\n",
       "      <th>COD_REG</th>\n",
       "      <th>COD_PRO</th>\n",
       "      <th>PRO_COM</th>\n",
       "      <th>NOME</th>\n",
       "      <th>SUPERFICIE (in KMQ)</th>\n",
       "      <th>ALT_MIN</th>\n",
       "      <th>ALT_MAX</th>\n",
       "      <th>RANGE</th>\n",
       "      <th>MEDIA</th>\n",
       "      <th>MEDIANA</th>\n",
       "      <th>STD</th>\n",
       "    </tr>\n",
       "  </thead>\n",
       "  <tbody>\n",
       "    <tr>\n",
       "      <th>5252</th>\n",
       "      <td>1</td>\n",
       "      <td>1</td>\n",
       "      <td>1168</td>\n",
       "      <td>NaN</td>\n",
       "      <td>24.6425</td>\n",
       "      <td>236</td>\n",
       "      <td>261</td>\n",
       "      <td>25</td>\n",
       "      <td>244.6801</td>\n",
       "      <td>244</td>\n",
       "      <td>3.904581</td>\n",
       "    </tr>\n",
       "  </tbody>\n",
       "</table>\n",
       "</div>"
      ]
     },
     "execution_count": 23,
     "metadata": {},
     "output_type": "execute_result"
    }
   ],
   "execution_count": 23
  },
  {
   "metadata": {
    "ExecuteTime": {
     "end_time": "2025-03-03T19:32:46.981942Z",
     "start_time": "2025-03-03T19:32:46.977348Z"
    }
   },
   "cell_type": "code",
   "source": "df_alt_of_mun = df_alt_of_mun.dropna(subset=[\"NOME\"])",
   "id": "89b79f24c1893ff2",
   "outputs": [],
   "execution_count": 24
  },
  {
   "metadata": {
    "ExecuteTime": {
     "end_time": "2025-03-03T19:32:47.036184Z",
     "start_time": "2025-03-03T19:32:47.030696Z"
    }
   },
   "cell_type": "code",
   "source": "df_alt_of_mun.info()",
   "id": "f306e62f8de901ba",
   "outputs": [
    {
     "name": "stdout",
     "output_type": "stream",
     "text": [
      "<class 'pandas.core.frame.DataFrame'>\n",
      "Index: 8091 entries, 0 to 8091\n",
      "Data columns (total 11 columns):\n",
      " #   Column               Non-Null Count  Dtype  \n",
      "---  ------               --------------  -----  \n",
      " 0   COD_REG              8091 non-null   int64  \n",
      " 1   COD_PRO              8091 non-null   int64  \n",
      " 2   PRO_COM              8091 non-null   int64  \n",
      " 3   NOME                 8091 non-null   object \n",
      " 4   SUPERFICIE (in KMQ)  8091 non-null   float64\n",
      " 5   ALT_MIN              8091 non-null   int64  \n",
      " 6   ALT_MAX              8091 non-null   int64  \n",
      " 7   RANGE                8091 non-null   int64  \n",
      " 8   MEDIA                8091 non-null   float64\n",
      " 9   MEDIANA              8091 non-null   int64  \n",
      " 10  STD                  8091 non-null   float64\n",
      "dtypes: float64(3), int64(7), object(1)\n",
      "memory usage: 758.5+ KB\n"
     ]
    }
   ],
   "execution_count": 25
  },
  {
   "metadata": {
    "ExecuteTime": {
     "end_time": "2025-03-03T19:32:47.117087Z",
     "start_time": "2025-03-03T19:32:47.113587Z"
    }
   },
   "cell_type": "code",
   "source": "df_alt_of_mun.columns = [\"Region_Code\", \"Province_Code\", \"Municipality_Code\", \"Name\", \"Surface(km^2)\", \"Min_Altitude\", \"Max_Altitude\", \"Range\", \"Average\", \"Median\", \"Standard_Deviation\"]",
   "id": "290a80d1c88d528c",
   "outputs": [],
   "execution_count": 26
  },
  {
   "metadata": {
    "ExecuteTime": {
     "end_time": "2025-03-03T19:32:47.172879Z",
     "start_time": "2025-03-03T19:32:47.165949Z"
    }
   },
   "cell_type": "code",
   "source": "df_alt_of_mun.info()",
   "id": "921714c273eb0731",
   "outputs": [
    {
     "name": "stdout",
     "output_type": "stream",
     "text": [
      "<class 'pandas.core.frame.DataFrame'>\n",
      "Index: 8091 entries, 0 to 8091\n",
      "Data columns (total 11 columns):\n",
      " #   Column              Non-Null Count  Dtype  \n",
      "---  ------              --------------  -----  \n",
      " 0   Region_Code         8091 non-null   int64  \n",
      " 1   Province_Code       8091 non-null   int64  \n",
      " 2   Municipality_Code   8091 non-null   int64  \n",
      " 3   Name                8091 non-null   object \n",
      " 4   Surface(km^2)       8091 non-null   float64\n",
      " 5   Min_Altitude        8091 non-null   int64  \n",
      " 6   Max_Altitude        8091 non-null   int64  \n",
      " 7   Range               8091 non-null   int64  \n",
      " 8   Average             8091 non-null   float64\n",
      " 9   Median              8091 non-null   int64  \n",
      " 10  Standard_Deviation  8091 non-null   float64\n",
      "dtypes: float64(3), int64(7), object(1)\n",
      "memory usage: 758.5+ KB\n"
     ]
    }
   ],
   "execution_count": 27
  },
  {
   "metadata": {
    "ExecuteTime": {
     "end_time": "2025-03-03T19:32:47.308882Z",
     "start_time": "2025-03-03T19:32:47.290255Z"
    }
   },
   "cell_type": "code",
   "source": [
    "df_alt_of_mun['Surface(km^2)'] = df_alt_of_mun['Surface(km^2)'].astype(str).str.replace(',', '.').astype(float)\n",
    "df_alt_of_mun['Average'] = df_alt_of_mun['Average'].astype(str).str.replace(',', '.').astype(float)\n",
    "df_alt_of_mun['Standard_Deviation'] = df_alt_of_mun['Standard_Deviation'].astype(str).str.replace(',', '.').astype(float)"
   ],
   "id": "3cb932f50435b4",
   "outputs": [],
   "execution_count": 28
  },
  {
   "metadata": {
    "ExecuteTime": {
     "end_time": "2025-03-03T19:32:47.359038Z",
     "start_time": "2025-03-03T19:32:47.352826Z"
    }
   },
   "cell_type": "code",
   "source": "df_alt_of_mun.info()",
   "id": "ef6b90496915fd11",
   "outputs": [
    {
     "name": "stdout",
     "output_type": "stream",
     "text": [
      "<class 'pandas.core.frame.DataFrame'>\n",
      "Index: 8091 entries, 0 to 8091\n",
      "Data columns (total 11 columns):\n",
      " #   Column              Non-Null Count  Dtype  \n",
      "---  ------              --------------  -----  \n",
      " 0   Region_Code         8091 non-null   int64  \n",
      " 1   Province_Code       8091 non-null   int64  \n",
      " 2   Municipality_Code   8091 non-null   int64  \n",
      " 3   Name                8091 non-null   object \n",
      " 4   Surface(km^2)       8091 non-null   float64\n",
      " 5   Min_Altitude        8091 non-null   int64  \n",
      " 6   Max_Altitude        8091 non-null   int64  \n",
      " 7   Range               8091 non-null   int64  \n",
      " 8   Average             8091 non-null   float64\n",
      " 9   Median              8091 non-null   int64  \n",
      " 10  Standard_Deviation  8091 non-null   float64\n",
      "dtypes: float64(3), int64(7), object(1)\n",
      "memory usage: 758.5+ KB\n"
     ]
    }
   ],
   "execution_count": 29
  },
  {
   "metadata": {
    "ExecuteTime": {
     "end_time": "2025-03-03T19:32:47.468291Z",
     "start_time": "2025-03-03T19:32:47.454876Z"
    }
   },
   "cell_type": "code",
   "source": [
    "cleaned_df_altitude_of_municipalities = df_alt_of_mun\n",
    "cleaned_df_altitude_of_municipalities.head()"
   ],
   "id": "f1b540c3f16770cb",
   "outputs": [
    {
     "data": {
      "text/plain": [
       "   Region_Code  Province_Code  Municipality_Code        Name  Surface(km^2)  \\\n",
       "0           12             58              58120   Fiumicino       213.8944   \n",
       "1            5             29              29001       Adria       113.3900   \n",
       "2            5             29              29030       Loreo        39.8442   \n",
       "3            5             29              29052  Porto Viro       133.7686   \n",
       "4            8             38              38017   Ostellato       173.3434   \n",
       "\n",
       "   Min_Altitude  Max_Altitude  Range    Average  Median  Standard_Deviation  \n",
       "0            -3           164    167  31.688450       5           39.686070  \n",
       "1            -3             8     11   1.057863       1            1.244239  \n",
       "2            -3             7     10   0.464185       0            0.770743  \n",
       "3            -3             6      9   0.555705       1            0.553657  \n",
       "4            -3             8     11   1.784421       1            0.977924  "
      ],
      "text/html": [
       "<div>\n",
       "<style scoped>\n",
       "    .dataframe tbody tr th:only-of-type {\n",
       "        vertical-align: middle;\n",
       "    }\n",
       "\n",
       "    .dataframe tbody tr th {\n",
       "        vertical-align: top;\n",
       "    }\n",
       "\n",
       "    .dataframe thead th {\n",
       "        text-align: right;\n",
       "    }\n",
       "</style>\n",
       "<table border=\"1\" class=\"dataframe\">\n",
       "  <thead>\n",
       "    <tr style=\"text-align: right;\">\n",
       "      <th></th>\n",
       "      <th>Region_Code</th>\n",
       "      <th>Province_Code</th>\n",
       "      <th>Municipality_Code</th>\n",
       "      <th>Name</th>\n",
       "      <th>Surface(km^2)</th>\n",
       "      <th>Min_Altitude</th>\n",
       "      <th>Max_Altitude</th>\n",
       "      <th>Range</th>\n",
       "      <th>Average</th>\n",
       "      <th>Median</th>\n",
       "      <th>Standard_Deviation</th>\n",
       "    </tr>\n",
       "  </thead>\n",
       "  <tbody>\n",
       "    <tr>\n",
       "      <th>0</th>\n",
       "      <td>12</td>\n",
       "      <td>58</td>\n",
       "      <td>58120</td>\n",
       "      <td>Fiumicino</td>\n",
       "      <td>213.8944</td>\n",
       "      <td>-3</td>\n",
       "      <td>164</td>\n",
       "      <td>167</td>\n",
       "      <td>31.688450</td>\n",
       "      <td>5</td>\n",
       "      <td>39.686070</td>\n",
       "    </tr>\n",
       "    <tr>\n",
       "      <th>1</th>\n",
       "      <td>5</td>\n",
       "      <td>29</td>\n",
       "      <td>29001</td>\n",
       "      <td>Adria</td>\n",
       "      <td>113.3900</td>\n",
       "      <td>-3</td>\n",
       "      <td>8</td>\n",
       "      <td>11</td>\n",
       "      <td>1.057863</td>\n",
       "      <td>1</td>\n",
       "      <td>1.244239</td>\n",
       "    </tr>\n",
       "    <tr>\n",
       "      <th>2</th>\n",
       "      <td>5</td>\n",
       "      <td>29</td>\n",
       "      <td>29030</td>\n",
       "      <td>Loreo</td>\n",
       "      <td>39.8442</td>\n",
       "      <td>-3</td>\n",
       "      <td>7</td>\n",
       "      <td>10</td>\n",
       "      <td>0.464185</td>\n",
       "      <td>0</td>\n",
       "      <td>0.770743</td>\n",
       "    </tr>\n",
       "    <tr>\n",
       "      <th>3</th>\n",
       "      <td>5</td>\n",
       "      <td>29</td>\n",
       "      <td>29052</td>\n",
       "      <td>Porto Viro</td>\n",
       "      <td>133.7686</td>\n",
       "      <td>-3</td>\n",
       "      <td>6</td>\n",
       "      <td>9</td>\n",
       "      <td>0.555705</td>\n",
       "      <td>1</td>\n",
       "      <td>0.553657</td>\n",
       "    </tr>\n",
       "    <tr>\n",
       "      <th>4</th>\n",
       "      <td>8</td>\n",
       "      <td>38</td>\n",
       "      <td>38017</td>\n",
       "      <td>Ostellato</td>\n",
       "      <td>173.3434</td>\n",
       "      <td>-3</td>\n",
       "      <td>8</td>\n",
       "      <td>11</td>\n",
       "      <td>1.784421</td>\n",
       "      <td>1</td>\n",
       "      <td>0.977924</td>\n",
       "    </tr>\n",
       "  </tbody>\n",
       "</table>\n",
       "</div>"
      ]
     },
     "execution_count": 30,
     "metadata": {},
     "output_type": "execute_result"
    }
   ],
   "execution_count": 30
  },
  {
   "metadata": {
    "ExecuteTime": {
     "end_time": "2025-03-03T19:32:47.512709Z",
     "start_time": "2025-03-03T19:32:47.507889Z"
    }
   },
   "cell_type": "code",
   "source": "cleaned_df_altitude_of_municipalities.to_pickle(\"../Cleaned_datasets/cleaned_df_altitude_of_municipalities.pkl\")",
   "id": "2dca5c1f35710d6e",
   "outputs": [],
   "execution_count": 31
  },
  {
   "metadata": {
    "ExecuteTime": {
     "end_time": "2025-03-03T19:32:47.555808Z",
     "start_time": "2025-03-03T19:32:47.552947Z"
    }
   },
   "cell_type": "code",
   "source": "# To load - df = pd.read_pickle(\"Cleaned_datasets/cleaned_df_altitude_of_municipalities.pkl\")",
   "id": "84914c18c6b24b7d",
   "outputs": [],
   "execution_count": 32
  }
 ],
 "metadata": {
  "kernelspec": {
   "display_name": "Python 3",
   "language": "python",
   "name": "python3"
  },
  "language_info": {
   "codemirror_mode": {
    "name": "ipython",
    "version": 2
   },
   "file_extension": ".py",
   "mimetype": "text/x-python",
   "name": "python",
   "nbconvert_exporter": "python",
   "pygments_lexer": "ipython2",
   "version": "2.7.6"
  }
 },
 "nbformat": 4,
 "nbformat_minor": 5
}
