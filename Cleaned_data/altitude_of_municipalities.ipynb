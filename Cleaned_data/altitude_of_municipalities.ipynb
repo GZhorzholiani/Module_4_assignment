{
 "cells": [
  {
   "metadata": {
    "ExecuteTime": {
     "end_time": "2025-03-09T22:17:27.039383Z",
     "start_time": "2025-03-09T22:17:27.035170Z"
    }
   },
   "cell_type": "code",
   "source": "import pandas as pd",
   "id": "9b20f08aa42ddc50",
   "outputs": [],
   "execution_count": 12
  },
  {
   "metadata": {
    "ExecuteTime": {
     "end_time": "2025-03-09T22:17:27.652020Z",
     "start_time": "2025-03-09T22:17:27.048853Z"
    }
   },
   "cell_type": "code",
   "source": [
    "# Read municipalities file\n",
    "df_alt_of_mun = pd.read_excel(\"../Datasets/Altitude_of_municipalities.xlsx\", engine=\"openpyxl\")\n",
    "df_alt_of_mun.head(10)"
   ],
   "id": "6ea5b4364cd27db0",
   "outputs": [
    {
     "data": {
      "text/plain": [
       "   COD_REG  COD_PRO  PRO_COM                  NOME  SUPERFICIE (in KMQ)  \\\n",
       "0       12       58    58120             Fiumicino             213.8944   \n",
       "1        5       29    29001                 Adria             113.3900   \n",
       "2        5       29    29030                 Loreo              39.8442   \n",
       "3        5       29    29052            Porto Viro             133.7686   \n",
       "4        8       38    38017             Ostellato             173.3434   \n",
       "5        5       27    27010                  Cona              65.1121   \n",
       "6        5       27    27008              Chioggia             187.9141   \n",
       "7        5       27    27006             Cavarzere             140.4396   \n",
       "8        5       27    27005                Caorle             153.8363   \n",
       "9        5       27    27011  Concordia Sagittaria              66.8359   \n",
       "\n",
       "   ALT_MIN  ALT_MAX  RANGE      MEDIA  MEDIANA        STD  \n",
       "0       -3      164    167  31.688450        5  39.686070  \n",
       "1       -3        8     11   1.057863        1   1.244239  \n",
       "2       -3        7     10   0.464185        0   0.770743  \n",
       "3       -3        6      9   0.555705        1   0.553657  \n",
       "4       -3        8     11   1.784421        1   0.977924  \n",
       "5       -3        8     11   0.562878        0   0.982815  \n",
       "6       -3        6      9   0.638074        0   0.931072  \n",
       "7       -3       10     13   0.705173        0   1.208494  \n",
       "8       -3        5      8   1.039616        1   0.278419  \n",
       "9       -2        5      7   2.133007        2   1.087725  "
      ],
      "text/html": [
       "<div>\n",
       "<style scoped>\n",
       "    .dataframe tbody tr th:only-of-type {\n",
       "        vertical-align: middle;\n",
       "    }\n",
       "\n",
       "    .dataframe tbody tr th {\n",
       "        vertical-align: top;\n",
       "    }\n",
       "\n",
       "    .dataframe thead th {\n",
       "        text-align: right;\n",
       "    }\n",
       "</style>\n",
       "<table border=\"1\" class=\"dataframe\">\n",
       "  <thead>\n",
       "    <tr style=\"text-align: right;\">\n",
       "      <th></th>\n",
       "      <th>COD_REG</th>\n",
       "      <th>COD_PRO</th>\n",
       "      <th>PRO_COM</th>\n",
       "      <th>NOME</th>\n",
       "      <th>SUPERFICIE (in KMQ)</th>\n",
       "      <th>ALT_MIN</th>\n",
       "      <th>ALT_MAX</th>\n",
       "      <th>RANGE</th>\n",
       "      <th>MEDIA</th>\n",
       "      <th>MEDIANA</th>\n",
       "      <th>STD</th>\n",
       "    </tr>\n",
       "  </thead>\n",
       "  <tbody>\n",
       "    <tr>\n",
       "      <th>0</th>\n",
       "      <td>12</td>\n",
       "      <td>58</td>\n",
       "      <td>58120</td>\n",
       "      <td>Fiumicino</td>\n",
       "      <td>213.8944</td>\n",
       "      <td>-3</td>\n",
       "      <td>164</td>\n",
       "      <td>167</td>\n",
       "      <td>31.688450</td>\n",
       "      <td>5</td>\n",
       "      <td>39.686070</td>\n",
       "    </tr>\n",
       "    <tr>\n",
       "      <th>1</th>\n",
       "      <td>5</td>\n",
       "      <td>29</td>\n",
       "      <td>29001</td>\n",
       "      <td>Adria</td>\n",
       "      <td>113.3900</td>\n",
       "      <td>-3</td>\n",
       "      <td>8</td>\n",
       "      <td>11</td>\n",
       "      <td>1.057863</td>\n",
       "      <td>1</td>\n",
       "      <td>1.244239</td>\n",
       "    </tr>\n",
       "    <tr>\n",
       "      <th>2</th>\n",
       "      <td>5</td>\n",
       "      <td>29</td>\n",
       "      <td>29030</td>\n",
       "      <td>Loreo</td>\n",
       "      <td>39.8442</td>\n",
       "      <td>-3</td>\n",
       "      <td>7</td>\n",
       "      <td>10</td>\n",
       "      <td>0.464185</td>\n",
       "      <td>0</td>\n",
       "      <td>0.770743</td>\n",
       "    </tr>\n",
       "    <tr>\n",
       "      <th>3</th>\n",
       "      <td>5</td>\n",
       "      <td>29</td>\n",
       "      <td>29052</td>\n",
       "      <td>Porto Viro</td>\n",
       "      <td>133.7686</td>\n",
       "      <td>-3</td>\n",
       "      <td>6</td>\n",
       "      <td>9</td>\n",
       "      <td>0.555705</td>\n",
       "      <td>1</td>\n",
       "      <td>0.553657</td>\n",
       "    </tr>\n",
       "    <tr>\n",
       "      <th>4</th>\n",
       "      <td>8</td>\n",
       "      <td>38</td>\n",
       "      <td>38017</td>\n",
       "      <td>Ostellato</td>\n",
       "      <td>173.3434</td>\n",
       "      <td>-3</td>\n",
       "      <td>8</td>\n",
       "      <td>11</td>\n",
       "      <td>1.784421</td>\n",
       "      <td>1</td>\n",
       "      <td>0.977924</td>\n",
       "    </tr>\n",
       "    <tr>\n",
       "      <th>5</th>\n",
       "      <td>5</td>\n",
       "      <td>27</td>\n",
       "      <td>27010</td>\n",
       "      <td>Cona</td>\n",
       "      <td>65.1121</td>\n",
       "      <td>-3</td>\n",
       "      <td>8</td>\n",
       "      <td>11</td>\n",
       "      <td>0.562878</td>\n",
       "      <td>0</td>\n",
       "      <td>0.982815</td>\n",
       "    </tr>\n",
       "    <tr>\n",
       "      <th>6</th>\n",
       "      <td>5</td>\n",
       "      <td>27</td>\n",
       "      <td>27008</td>\n",
       "      <td>Chioggia</td>\n",
       "      <td>187.9141</td>\n",
       "      <td>-3</td>\n",
       "      <td>6</td>\n",
       "      <td>9</td>\n",
       "      <td>0.638074</td>\n",
       "      <td>0</td>\n",
       "      <td>0.931072</td>\n",
       "    </tr>\n",
       "    <tr>\n",
       "      <th>7</th>\n",
       "      <td>5</td>\n",
       "      <td>27</td>\n",
       "      <td>27006</td>\n",
       "      <td>Cavarzere</td>\n",
       "      <td>140.4396</td>\n",
       "      <td>-3</td>\n",
       "      <td>10</td>\n",
       "      <td>13</td>\n",
       "      <td>0.705173</td>\n",
       "      <td>0</td>\n",
       "      <td>1.208494</td>\n",
       "    </tr>\n",
       "    <tr>\n",
       "      <th>8</th>\n",
       "      <td>5</td>\n",
       "      <td>27</td>\n",
       "      <td>27005</td>\n",
       "      <td>Caorle</td>\n",
       "      <td>153.8363</td>\n",
       "      <td>-3</td>\n",
       "      <td>5</td>\n",
       "      <td>8</td>\n",
       "      <td>1.039616</td>\n",
       "      <td>1</td>\n",
       "      <td>0.278419</td>\n",
       "    </tr>\n",
       "    <tr>\n",
       "      <th>9</th>\n",
       "      <td>5</td>\n",
       "      <td>27</td>\n",
       "      <td>27011</td>\n",
       "      <td>Concordia Sagittaria</td>\n",
       "      <td>66.8359</td>\n",
       "      <td>-2</td>\n",
       "      <td>5</td>\n",
       "      <td>7</td>\n",
       "      <td>2.133007</td>\n",
       "      <td>2</td>\n",
       "      <td>1.087725</td>\n",
       "    </tr>\n",
       "  </tbody>\n",
       "</table>\n",
       "</div>"
      ]
     },
     "execution_count": 13,
     "metadata": {},
     "output_type": "execute_result"
    }
   ],
   "execution_count": 13
  },
  {
   "metadata": {
    "ExecuteTime": {
     "end_time": "2025-03-09T22:17:27.695462Z",
     "start_time": "2025-03-09T22:17:27.689027Z"
    }
   },
   "cell_type": "code",
   "source": "df_alt_of_mun.info()",
   "id": "e80eab30c19e349a",
   "outputs": [
    {
     "name": "stdout",
     "output_type": "stream",
     "text": [
      "<class 'pandas.core.frame.DataFrame'>\n",
      "RangeIndex: 8092 entries, 0 to 8091\n",
      "Data columns (total 11 columns):\n",
      " #   Column               Non-Null Count  Dtype  \n",
      "---  ------               --------------  -----  \n",
      " 0   COD_REG              8092 non-null   int64  \n",
      " 1   COD_PRO              8092 non-null   int64  \n",
      " 2   PRO_COM              8092 non-null   int64  \n",
      " 3   NOME                 8091 non-null   object \n",
      " 4   SUPERFICIE (in KMQ)  8092 non-null   float64\n",
      " 5   ALT_MIN              8092 non-null   int64  \n",
      " 6   ALT_MAX              8092 non-null   int64  \n",
      " 7   RANGE                8092 non-null   int64  \n",
      " 8   MEDIA                8092 non-null   float64\n",
      " 9   MEDIANA              8092 non-null   int64  \n",
      " 10  STD                  8092 non-null   float64\n",
      "dtypes: float64(3), int64(7), object(1)\n",
      "memory usage: 695.5+ KB\n"
     ]
    }
   ],
   "execution_count": 14
  },
  {
   "metadata": {
    "ExecuteTime": {
     "end_time": "2025-03-09T22:17:27.836712Z",
     "start_time": "2025-03-09T22:17:27.831472Z"
    }
   },
   "cell_type": "code",
   "source": "df_alt_of_mun.isna().sum() # Check sum of NA",
   "id": "21973f154fbb5537",
   "outputs": [
    {
     "data": {
      "text/plain": [
       "COD_REG                0\n",
       "COD_PRO                0\n",
       "PRO_COM                0\n",
       "NOME                   1\n",
       "SUPERFICIE (in KMQ)    0\n",
       "ALT_MIN                0\n",
       "ALT_MAX                0\n",
       "RANGE                  0\n",
       "MEDIA                  0\n",
       "MEDIANA                0\n",
       "STD                    0\n",
       "dtype: int64"
      ]
     },
     "execution_count": 15,
     "metadata": {},
     "output_type": "execute_result"
    }
   ],
   "execution_count": 15
  },
  {
   "metadata": {
    "ExecuteTime": {
     "end_time": "2025-03-09T22:17:27.911022Z",
     "start_time": "2025-03-09T22:17:27.904267Z"
    }
   },
   "cell_type": "code",
   "source": "df_alt_of_mun[df_alt_of_mun[\"NOME\"].isna()] # Check where NOME is NA",
   "id": "facf5b1db0aa0ab4",
   "outputs": [
    {
     "data": {
      "text/plain": [
       "      COD_REG  COD_PRO  PRO_COM NOME  SUPERFICIE (in KMQ)  ALT_MIN  ALT_MAX  \\\n",
       "5252        1        1     1168  NaN              24.6425      236      261   \n",
       "\n",
       "      RANGE     MEDIA  MEDIANA       STD  \n",
       "5252     25  244.6801      244  3.904581  "
      ],
      "text/html": [
       "<div>\n",
       "<style scoped>\n",
       "    .dataframe tbody tr th:only-of-type {\n",
       "        vertical-align: middle;\n",
       "    }\n",
       "\n",
       "    .dataframe tbody tr th {\n",
       "        vertical-align: top;\n",
       "    }\n",
       "\n",
       "    .dataframe thead th {\n",
       "        text-align: right;\n",
       "    }\n",
       "</style>\n",
       "<table border=\"1\" class=\"dataframe\">\n",
       "  <thead>\n",
       "    <tr style=\"text-align: right;\">\n",
       "      <th></th>\n",
       "      <th>COD_REG</th>\n",
       "      <th>COD_PRO</th>\n",
       "      <th>PRO_COM</th>\n",
       "      <th>NOME</th>\n",
       "      <th>SUPERFICIE (in KMQ)</th>\n",
       "      <th>ALT_MIN</th>\n",
       "      <th>ALT_MAX</th>\n",
       "      <th>RANGE</th>\n",
       "      <th>MEDIA</th>\n",
       "      <th>MEDIANA</th>\n",
       "      <th>STD</th>\n",
       "    </tr>\n",
       "  </thead>\n",
       "  <tbody>\n",
       "    <tr>\n",
       "      <th>5252</th>\n",
       "      <td>1</td>\n",
       "      <td>1</td>\n",
       "      <td>1168</td>\n",
       "      <td>NaN</td>\n",
       "      <td>24.6425</td>\n",
       "      <td>236</td>\n",
       "      <td>261</td>\n",
       "      <td>25</td>\n",
       "      <td>244.6801</td>\n",
       "      <td>244</td>\n",
       "      <td>3.904581</td>\n",
       "    </tr>\n",
       "  </tbody>\n",
       "</table>\n",
       "</div>"
      ]
     },
     "execution_count": 16,
     "metadata": {},
     "output_type": "execute_result"
    }
   ],
   "execution_count": 16
  },
  {
   "metadata": {
    "ExecuteTime": {
     "end_time": "2025-03-09T22:17:28.000716Z",
     "start_time": "2025-03-09T22:17:27.973900Z"
    }
   },
   "cell_type": "code",
   "source": [
    "df_alt_of_mun = df_alt_of_mun.dropna(subset=[\"NOME\"]) # Drop NA row\n",
    "df_alt_of_mun.info()"
   ],
   "id": "89b79f24c1893ff2",
   "outputs": [
    {
     "name": "stdout",
     "output_type": "stream",
     "text": [
      "<class 'pandas.core.frame.DataFrame'>\n",
      "Index: 8091 entries, 0 to 8091\n",
      "Data columns (total 11 columns):\n",
      " #   Column               Non-Null Count  Dtype  \n",
      "---  ------               --------------  -----  \n",
      " 0   COD_REG              8091 non-null   int64  \n",
      " 1   COD_PRO              8091 non-null   int64  \n",
      " 2   PRO_COM              8091 non-null   int64  \n",
      " 3   NOME                 8091 non-null   object \n",
      " 4   SUPERFICIE (in KMQ)  8091 non-null   float64\n",
      " 5   ALT_MIN              8091 non-null   int64  \n",
      " 6   ALT_MAX              8091 non-null   int64  \n",
      " 7   RANGE                8091 non-null   int64  \n",
      " 8   MEDIA                8091 non-null   float64\n",
      " 9   MEDIANA              8091 non-null   int64  \n",
      " 10  STD                  8091 non-null   float64\n",
      "dtypes: float64(3), int64(7), object(1)\n",
      "memory usage: 758.5+ KB\n"
     ]
    }
   ],
   "execution_count": 17
  },
  {
   "metadata": {
    "ExecuteTime": {
     "end_time": "2025-03-09T22:17:28.036477Z",
     "start_time": "2025-03-09T22:17:28.030455Z"
    }
   },
   "cell_type": "code",
   "source": [
    "df_alt_of_mun.columns = [\"RegionCode\", \"ProvinceCode\", \"MunicipalityCode\", \"MunicipalityName\", \"Surface(km^2)\", \n",
    "                         \"MinAltitude\", \"MaxAltitude\", \"Range\", \"Average\", \"Median\", \"StandardDeviation\"] # Rename columns\n",
    "df_alt_of_mun.info()"
   ],
   "id": "290a80d1c88d528c",
   "outputs": [
    {
     "name": "stdout",
     "output_type": "stream",
     "text": [
      "<class 'pandas.core.frame.DataFrame'>\n",
      "Index: 8091 entries, 0 to 8091\n",
      "Data columns (total 11 columns):\n",
      " #   Column             Non-Null Count  Dtype  \n",
      "---  ------             --------------  -----  \n",
      " 0   RegionCode         8091 non-null   int64  \n",
      " 1   ProvinceCode       8091 non-null   int64  \n",
      " 2   MunicipalityCode   8091 non-null   int64  \n",
      " 3   MunicipalityName   8091 non-null   object \n",
      " 4   Surface(km^2)      8091 non-null   float64\n",
      " 5   MinAltitude        8091 non-null   int64  \n",
      " 6   MaxAltitude        8091 non-null   int64  \n",
      " 7   Range              8091 non-null   int64  \n",
      " 8   Average            8091 non-null   float64\n",
      " 9   Median             8091 non-null   int64  \n",
      " 10  StandardDeviation  8091 non-null   float64\n",
      "dtypes: float64(3), int64(7), object(1)\n",
      "memory usage: 758.5+ KB\n"
     ]
    }
   ],
   "execution_count": 18
  },
  {
   "metadata": {
    "ExecuteTime": {
     "end_time": "2025-03-09T22:17:28.078505Z",
     "start_time": "2025-03-09T22:17:28.055457Z"
    }
   },
   "cell_type": "code",
   "source": [
    "# Convert to string replace ',' to '.' and convert to float\n",
    "df_alt_of_mun['Surface(km^2)'] = df_alt_of_mun['Surface(km^2)'].astype(str).str.replace(',', '.').astype(float)\n",
    "df_alt_of_mun['Average'] = df_alt_of_mun['Average'].astype(str).str.replace(',', '.').astype(float)\n",
    "df_alt_of_mun['StandardDeviation'] = df_alt_of_mun['StandardDeviation'].astype(str).str.replace(',', '.').astype(float)\n",
    "df_alt_of_mun.info()"
   ],
   "id": "3cb932f50435b4",
   "outputs": [
    {
     "name": "stdout",
     "output_type": "stream",
     "text": [
      "<class 'pandas.core.frame.DataFrame'>\n",
      "Index: 8091 entries, 0 to 8091\n",
      "Data columns (total 11 columns):\n",
      " #   Column             Non-Null Count  Dtype  \n",
      "---  ------             --------------  -----  \n",
      " 0   RegionCode         8091 non-null   int64  \n",
      " 1   ProvinceCode       8091 non-null   int64  \n",
      " 2   MunicipalityCode   8091 non-null   int64  \n",
      " 3   MunicipalityName   8091 non-null   object \n",
      " 4   Surface(km^2)      8091 non-null   float64\n",
      " 5   MinAltitude        8091 non-null   int64  \n",
      " 6   MaxAltitude        8091 non-null   int64  \n",
      " 7   Range              8091 non-null   int64  \n",
      " 8   Average            8091 non-null   float64\n",
      " 9   Median             8091 non-null   int64  \n",
      " 10  StandardDeviation  8091 non-null   float64\n",
      "dtypes: float64(3), int64(7), object(1)\n",
      "memory usage: 758.5+ KB\n"
     ]
    }
   ],
   "execution_count": 19
  },
  {
   "metadata": {
    "ExecuteTime": {
     "end_time": "2025-03-09T22:17:28.113367Z",
     "start_time": "2025-03-09T22:17:28.105911Z"
    }
   },
   "cell_type": "code",
   "source": [
    "cleaned_df_altitude_of_municipalities = df_alt_of_mun # Finalized version\n",
    "cleaned_df_altitude_of_municipalities.head()"
   ],
   "id": "f1b540c3f16770cb",
   "outputs": [
    {
     "data": {
      "text/plain": [
       "   RegionCode  ProvinceCode  MunicipalityCode MunicipalityName  Surface(km^2)  \\\n",
       "0          12            58             58120        Fiumicino       213.8944   \n",
       "1           5            29             29001            Adria       113.3900   \n",
       "2           5            29             29030            Loreo        39.8442   \n",
       "3           5            29             29052       Porto Viro       133.7686   \n",
       "4           8            38             38017        Ostellato       173.3434   \n",
       "\n",
       "   MinAltitude  MaxAltitude  Range    Average  Median  StandardDeviation  \n",
       "0           -3          164    167  31.688450       5          39.686070  \n",
       "1           -3            8     11   1.057863       1           1.244239  \n",
       "2           -3            7     10   0.464185       0           0.770743  \n",
       "3           -3            6      9   0.555705       1           0.553657  \n",
       "4           -3            8     11   1.784421       1           0.977924  "
      ],
      "text/html": [
       "<div>\n",
       "<style scoped>\n",
       "    .dataframe tbody tr th:only-of-type {\n",
       "        vertical-align: middle;\n",
       "    }\n",
       "\n",
       "    .dataframe tbody tr th {\n",
       "        vertical-align: top;\n",
       "    }\n",
       "\n",
       "    .dataframe thead th {\n",
       "        text-align: right;\n",
       "    }\n",
       "</style>\n",
       "<table border=\"1\" class=\"dataframe\">\n",
       "  <thead>\n",
       "    <tr style=\"text-align: right;\">\n",
       "      <th></th>\n",
       "      <th>RegionCode</th>\n",
       "      <th>ProvinceCode</th>\n",
       "      <th>MunicipalityCode</th>\n",
       "      <th>MunicipalityName</th>\n",
       "      <th>Surface(km^2)</th>\n",
       "      <th>MinAltitude</th>\n",
       "      <th>MaxAltitude</th>\n",
       "      <th>Range</th>\n",
       "      <th>Average</th>\n",
       "      <th>Median</th>\n",
       "      <th>StandardDeviation</th>\n",
       "    </tr>\n",
       "  </thead>\n",
       "  <tbody>\n",
       "    <tr>\n",
       "      <th>0</th>\n",
       "      <td>12</td>\n",
       "      <td>58</td>\n",
       "      <td>58120</td>\n",
       "      <td>Fiumicino</td>\n",
       "      <td>213.8944</td>\n",
       "      <td>-3</td>\n",
       "      <td>164</td>\n",
       "      <td>167</td>\n",
       "      <td>31.688450</td>\n",
       "      <td>5</td>\n",
       "      <td>39.686070</td>\n",
       "    </tr>\n",
       "    <tr>\n",
       "      <th>1</th>\n",
       "      <td>5</td>\n",
       "      <td>29</td>\n",
       "      <td>29001</td>\n",
       "      <td>Adria</td>\n",
       "      <td>113.3900</td>\n",
       "      <td>-3</td>\n",
       "      <td>8</td>\n",
       "      <td>11</td>\n",
       "      <td>1.057863</td>\n",
       "      <td>1</td>\n",
       "      <td>1.244239</td>\n",
       "    </tr>\n",
       "    <tr>\n",
       "      <th>2</th>\n",
       "      <td>5</td>\n",
       "      <td>29</td>\n",
       "      <td>29030</td>\n",
       "      <td>Loreo</td>\n",
       "      <td>39.8442</td>\n",
       "      <td>-3</td>\n",
       "      <td>7</td>\n",
       "      <td>10</td>\n",
       "      <td>0.464185</td>\n",
       "      <td>0</td>\n",
       "      <td>0.770743</td>\n",
       "    </tr>\n",
       "    <tr>\n",
       "      <th>3</th>\n",
       "      <td>5</td>\n",
       "      <td>29</td>\n",
       "      <td>29052</td>\n",
       "      <td>Porto Viro</td>\n",
       "      <td>133.7686</td>\n",
       "      <td>-3</td>\n",
       "      <td>6</td>\n",
       "      <td>9</td>\n",
       "      <td>0.555705</td>\n",
       "      <td>1</td>\n",
       "      <td>0.553657</td>\n",
       "    </tr>\n",
       "    <tr>\n",
       "      <th>4</th>\n",
       "      <td>8</td>\n",
       "      <td>38</td>\n",
       "      <td>38017</td>\n",
       "      <td>Ostellato</td>\n",
       "      <td>173.3434</td>\n",
       "      <td>-3</td>\n",
       "      <td>8</td>\n",
       "      <td>11</td>\n",
       "      <td>1.784421</td>\n",
       "      <td>1</td>\n",
       "      <td>0.977924</td>\n",
       "    </tr>\n",
       "  </tbody>\n",
       "</table>\n",
       "</div>"
      ]
     },
     "execution_count": 20,
     "metadata": {},
     "output_type": "execute_result"
    }
   ],
   "execution_count": 20
  },
  {
   "metadata": {
    "ExecuteTime": {
     "end_time": "2025-03-09T22:17:28.151657Z",
     "start_time": "2025-03-09T22:17:28.146523Z"
    }
   },
   "cell_type": "code",
   "source": "cleaned_df_altitude_of_municipalities.to_pickle(\"../Cleaned_datasets/cleaned_df_altitude_of_municipalities.pkl\")",
   "id": "2dca5c1f35710d6e",
   "outputs": [],
   "execution_count": 21
  },
  {
   "metadata": {
    "ExecuteTime": {
     "end_time": "2025-03-09T22:17:28.198301Z",
     "start_time": "2025-03-09T22:17:28.195624Z"
    }
   },
   "cell_type": "code",
   "source": "# To load - df = pd.read_pickle(\"Cleaned_datasets/cleaned_df_altitude_of_municipalities.pkl\")",
   "id": "84914c18c6b24b7d",
   "outputs": [],
   "execution_count": 22
  }
 ],
 "metadata": {
  "kernelspec": {
   "display_name": "Python 3",
   "language": "python",
   "name": "python3"
  },
  "language_info": {
   "codemirror_mode": {
    "name": "ipython",
    "version": 2
   },
   "file_extension": ".py",
   "mimetype": "text/x-python",
   "name": "python",
   "nbconvert_exporter": "python",
   "pygments_lexer": "ipython2",
   "version": "2.7.6"
  }
 },
 "nbformat": 4,
 "nbformat_minor": 5
}
