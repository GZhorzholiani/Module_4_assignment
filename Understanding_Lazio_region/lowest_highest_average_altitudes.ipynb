{
 "cells": [
  {
   "cell_type": "code",
   "id": "initial_id",
   "metadata": {
    "collapsed": true,
    "ExecuteTime": {
     "end_time": "2025-03-09T18:12:41.581633Z",
     "start_time": "2025-03-09T18:12:41.268821Z"
    }
   },
   "source": "import pandas as pd",
   "outputs": [],
   "execution_count": 1
  },
  {
   "metadata": {
    "ExecuteTime": {
     "end_time": "2025-03-09T18:12:41.591096Z",
     "start_time": "2025-03-09T18:12:41.586961Z"
    }
   },
   "cell_type": "code",
   "source": [
    "# Read the file\n",
    "merged = pd.read_pickle(\"../Cleaned_datasets/merged_cov_prov_and_alt_mun.pkl\")"
   ],
   "id": "be935d95d0626561",
   "outputs": [],
   "execution_count": 2
  },
  {
   "metadata": {
    "ExecuteTime": {
     "end_time": "2025-03-09T18:12:41.707212Z",
     "start_time": "2025-03-09T18:12:41.702948Z"
    }
   },
   "cell_type": "code",
   "source": [
    "# Find the province with the highest average altitude\n",
    "max_alt_province = merged.loc[merged[\"AverageAltitude\"].idxmax()]\n",
    "\n",
    "# Find the province with the lowest average altitude\n",
    "min_alt_province = merged.loc[merged[\"AverageAltitude\"].idxmin()]\n",
    "\n",
    "# Print results\n",
    "print(f\"In the Lazio region:\")\n",
    "print(f\"- The province with the highest average altitude of all municipalities is {max_alt_province['ProvinceName']} with {max_alt_province['AverageAltitude']} meters.\")\n",
    "print(f\"- The province with the lowest average altitude of all municipalities is {min_alt_province['ProvinceName']} with {min_alt_province['AverageAltitude']} meters.\")"
   ],
   "id": "b3bc3035d7751a83",
   "outputs": [
    {
     "name": "stdout",
     "output_type": "stream",
     "text": [
      "In the Lazio region:\n",
      "- The province with the highest average altitude of all municipalities is Rieti with 656.2488908219178 meters.\n",
      "- The province with the lowest average altitude of all municipalities is Latina with 249.8958771818182 meters.\n"
     ]
    }
   ],
   "execution_count": 3
  }
 ],
 "metadata": {
  "kernelspec": {
   "display_name": "Python 3",
   "language": "python",
   "name": "python3"
  },
  "language_info": {
   "codemirror_mode": {
    "name": "ipython",
    "version": 2
   },
   "file_extension": ".py",
   "mimetype": "text/x-python",
   "name": "python",
   "nbconvert_exporter": "python",
   "pygments_lexer": "ipython2",
   "version": "2.7.6"
  }
 },
 "nbformat": 4,
 "nbformat_minor": 5
}
