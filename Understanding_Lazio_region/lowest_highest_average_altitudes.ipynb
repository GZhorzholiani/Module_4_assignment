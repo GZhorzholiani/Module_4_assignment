{
 "cells": [
  {
   "cell_type": "code",
   "id": "initial_id",
   "metadata": {
    "collapsed": true,
    "ExecuteTime": {
     "end_time": "2025-03-03T20:48:27.940953Z",
     "start_time": "2025-03-03T20:48:27.637333Z"
    }
   },
   "source": "import pandas as pd",
   "outputs": [],
   "execution_count": 1
  },
  {
   "metadata": {
    "ExecuteTime": {
     "end_time": "2025-03-03T20:48:27.948442Z",
     "start_time": "2025-03-03T20:48:27.944282Z"
    }
   },
   "cell_type": "code",
   "source": "merged = pd.read_pickle(\"../Cleaned_datasets/merged_cov_prov_and_alt_mun.pkl\")",
   "id": "be935d95d0626561",
   "outputs": [],
   "execution_count": 2
  },
  {
   "metadata": {
    "ExecuteTime": {
     "end_time": "2025-03-03T20:48:28.089973Z",
     "start_time": "2025-03-03T20:48:28.061609Z"
    }
   },
   "cell_type": "code",
   "source": [
    "# Find the province with the highest average altitude\n",
    "max_alt_province = merged.loc[merged[\"Average_Altitude\"].idxmax()]\n",
    "\n",
    "# Find the province with the lowest average altitude\n",
    "min_alt_province = merged.loc[merged[\"Average_Altitude\"].idxmin()]\n",
    "\n",
    "# Print results\n",
    "print(f\"In the Lazio region:\")\n",
    "print(f\"- The province with the highest average altitude of all municipalities is {max_alt_province['ProvinceName']} with {max_alt_province['Average_Altitude']} meters.\")\n",
    "print(f\"- The province with the lowest average altitude of all municipalities is {min_alt_province['ProvinceName']} with {min_alt_province['Average_Altitude']} meters.\")"
   ],
   "id": "b3bc3035d7751a83",
   "outputs": [
    {
     "name": "stdout",
     "output_type": "stream",
     "text": [
      "In the Lazio region:\n",
      "- The province with the highest average altitude of all municipalities is Rieti with 656.2488908219178 meters.\n",
      "- The province with the lowest average altitude of all municipalities is Latina with 249.8958771818182 meters.\n"
     ]
    }
   ],
   "execution_count": 3
  }
 ],
 "metadata": {
  "kernelspec": {
   "display_name": "Python 3",
   "language": "python",
   "name": "python3"
  },
  "language_info": {
   "codemirror_mode": {
    "name": "ipython",
    "version": 2
   },
   "file_extension": ".py",
   "mimetype": "text/x-python",
   "name": "python",
   "nbconvert_exporter": "python",
   "pygments_lexer": "ipython2",
   "version": "2.7.6"
  }
 },
 "nbformat": 4,
 "nbformat_minor": 5
}
