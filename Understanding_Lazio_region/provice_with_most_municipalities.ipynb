{
 "cells": [
  {
   "metadata": {
    "ExecuteTime": {
     "end_time": "2025-03-09T18:11:18.714646Z",
     "start_time": "2025-03-09T18:11:18.440990Z"
    }
   },
   "cell_type": "code",
   "source": "import pandas as pd",
   "id": "4428a6278f363ba5",
   "outputs": [],
   "execution_count": 1
  },
  {
   "metadata": {
    "collapsed": true,
    "ExecuteTime": {
     "end_time": "2025-03-09T18:11:18.727120Z",
     "start_time": "2025-03-09T18:11:18.718392Z"
    }
   },
   "cell_type": "code",
   "source": [
    "# Read the file\n",
    "merged = pd.read_pickle(\"../Cleaned_datasets/merged_cov_prov_and_alt_mun.pkl\")"
   ],
   "id": "initial_id",
   "outputs": [],
   "execution_count": 2
  },
  {
   "metadata": {
    "ExecuteTime": {
     "end_time": "2025-03-09T18:11:18.855352Z",
     "start_time": "2025-03-09T18:11:18.843331Z"
    }
   },
   "cell_type": "code",
   "source": [
    "# Find the province with the most municipalities\n",
    "max_row = merged.loc[merged[\"MunicipalityCount\"].idxmax()]\n",
    "# Print formatted output\n",
    "print(f\"In Italy, in the Lazio region:\")\n",
    "print(f\"{max_row['ProvinceName']} \"\n",
    "      f\"is the province which has the most municipalities, including {max_row['MunicipalityCount']} municipalities.\")"
   ],
   "id": "13c67f950d0b727e",
   "outputs": [
    {
     "name": "stdout",
     "output_type": "stream",
     "text": [
      "In Italy, in the Lazio region:\n",
      "Roma is the province which has the most municipalities, including 121 municipalities.\n"
     ]
    }
   ],
   "execution_count": 3
  }
 ],
 "metadata": {
  "kernelspec": {
   "display_name": "Python 3",
   "language": "python",
   "name": "python3"
  },
  "language_info": {
   "codemirror_mode": {
    "name": "ipython",
    "version": 2
   },
   "file_extension": ".py",
   "mimetype": "text/x-python",
   "name": "python",
   "nbconvert_exporter": "python",
   "pygments_lexer": "ipython2",
   "version": "2.7.6"
  }
 },
 "nbformat": 4,
 "nbformat_minor": 5
}
