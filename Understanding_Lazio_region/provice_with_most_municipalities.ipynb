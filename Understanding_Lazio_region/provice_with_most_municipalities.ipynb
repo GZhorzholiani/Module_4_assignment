{
 "cells": [
  {
   "metadata": {
    "ExecuteTime": {
     "end_time": "2025-03-03T20:45:15.664423Z",
     "start_time": "2025-03-03T20:45:15.319090Z"
    }
   },
   "cell_type": "code",
   "source": "import pandas as pd",
   "id": "4428a6278f363ba5",
   "outputs": [],
   "execution_count": 1
  },
  {
   "metadata": {
    "collapsed": true,
    "ExecuteTime": {
     "end_time": "2025-03-03T20:45:15.670374Z",
     "start_time": "2025-03-03T20:45:15.667368Z"
    }
   },
   "cell_type": "code",
   "source": "merged = pd.read_pickle(\"../Cleaned_datasets/merged_cov_prov_and_alt_mun.pkl\")",
   "id": "initial_id",
   "outputs": [],
   "execution_count": 2
  },
  {
   "metadata": {
    "ExecuteTime": {
     "end_time": "2025-03-03T20:45:15.801481Z",
     "start_time": "2025-03-03T20:45:15.793763Z"
    }
   },
   "cell_type": "code",
   "source": [
    "# Find the province with the most municipalities\n",
    "max_row = merged.loc[merged[\"Municipality_Count\"].idxmax()]\n",
    "\n",
    "# Print formatted output\n",
    "print(f\"In Italy, in the Lazio region:\")\n",
    "print(f\"{max_row['ProvinceName']} \"\n",
    "      f\"is the province which has the most municipalities, including {max_row['Municipality_Count']} municipalities.\")"
   ],
   "id": "13c67f950d0b727e",
   "outputs": [
    {
     "name": "stdout",
     "output_type": "stream",
     "text": [
      "In Italy, in the Lazio region:\n",
      "Roma is the province which has the most municipalities, including 121 municipalities.\n"
     ]
    }
   ],
   "execution_count": 3
  }
 ],
 "metadata": {
  "kernelspec": {
   "display_name": "Python 3",
   "language": "python",
   "name": "python3"
  },
  "language_info": {
   "codemirror_mode": {
    "name": "ipython",
    "version": 2
   },
   "file_extension": ".py",
   "mimetype": "text/x-python",
   "name": "python",
   "nbconvert_exporter": "python",
   "pygments_lexer": "ipython2",
   "version": "2.7.6"
  }
 },
 "nbformat": 4,
 "nbformat_minor": 5
}
