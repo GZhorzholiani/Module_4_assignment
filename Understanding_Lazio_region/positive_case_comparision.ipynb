{
 "cells": [
  {
   "cell_type": "code",
   "id": "initial_id",
   "metadata": {
    "collapsed": true,
    "ExecuteTime": {
     "end_time": "2025-03-09T18:16:05.436918Z",
     "start_time": "2025-03-09T18:16:05.155014Z"
    }
   },
   "source": "import pandas as pd",
   "outputs": [],
   "execution_count": 1
  },
  {
   "metadata": {
    "ExecuteTime": {
     "end_time": "2025-03-09T18:16:05.451656Z",
     "start_time": "2025-03-09T18:16:05.440435Z"
    }
   },
   "cell_type": "code",
   "source": [
    "# Read the file\n",
    "cleaned_df_covid_province = pd.read_pickle(\"../Cleaned_datasets/cleaned_df_covid_province.pkl\")"
   ],
   "id": "ea321483dea1459e",
   "outputs": [],
   "execution_count": 2
  },
  {
   "metadata": {
    "ExecuteTime": {
     "end_time": "2025-03-09T18:16:05.561355Z",
     "start_time": "2025-03-09T18:16:05.556935Z"
    }
   },
   "cell_type": "code",
   "source": "cleaned_df_covid_province_lazio = cleaned_df_covid_province[cleaned_df_covid_province[\"RegionName\"] == \"Lazio\"] # Filter by Lazio Region",
   "id": "4042a055adf77579",
   "outputs": [],
   "execution_count": 3
  },
  {
   "metadata": {
    "ExecuteTime": {
     "end_time": "2025-03-09T18:16:05.649335Z",
     "start_time": "2025-03-09T18:16:05.573087Z"
    }
   },
   "cell_type": "code",
   "source": "cleaned_df_covid_province_lazio[\"Date\"].dtype == \"datetime64[ns]\" # Check that Date column is in the right format",
   "id": "55ad41d1ceec092a",
   "outputs": [
    {
     "data": {
      "text/plain": [
       "True"
      ]
     },
     "execution_count": 4,
     "metadata": {},
     "output_type": "execute_result"
    }
   ],
   "execution_count": 4
  },
  {
   "metadata": {
    "ExecuteTime": {
     "end_time": "2025-03-09T18:16:05.750315Z",
     "start_time": "2025-03-09T18:16:05.737116Z"
    }
   },
   "cell_type": "code",
   "source": [
    "# Sort by Province and Date to be able to calculate the difference in total positive cases\n",
    "Lazio_data = cleaned_df_covid_province_lazio.sort_values(by=[\"ProvinceName\", \"Date\"])"
   ],
   "id": "627e2567bd0a5d7a",
   "outputs": [],
   "execution_count": 5
  },
  {
   "metadata": {
    "ExecuteTime": {
     "end_time": "2025-03-09T18:16:05.765204Z",
     "start_time": "2025-03-09T18:16:05.759281Z"
    }
   },
   "cell_type": "code",
   "source": [
    "# Calculate the daily changes in the total positive cases\n",
    "Lazio_data['DailyChange'] = Lazio_data.groupby('ProvinceName')['TotalPositiveCases'].diff()"
   ],
   "id": "682e7fe1f1ba5672",
   "outputs": [],
   "execution_count": 6
  },
  {
   "metadata": {
    "ExecuteTime": {
     "end_time": "2025-03-09T18:16:05.779067Z",
     "start_time": "2025-03-09T18:16:05.775269Z"
    }
   },
   "cell_type": "code",
   "source": [
    "# Find the row with the **maximum increase**\n",
    "max_increase_row = Lazio_data.loc[Lazio_data[\"DailyChange\"].idxmax()]\n",
    "# Find the row with the **maximum decrease**\n",
    "max_decrease_row = Lazio_data.loc[Lazio_data[\"DailyChange\"].idxmin()]"
   ],
   "id": "963ad31525af889e",
   "outputs": [],
   "execution_count": 7
  },
  {
   "metadata": {
    "ExecuteTime": {
     "end_time": "2025-03-09T18:16:05.793080Z",
     "start_time": "2025-03-09T18:16:05.789137Z"
    }
   },
   "cell_type": "code",
   "source": [
    "# Print results\n",
    "print(f\"In the Lazio region:\")\n",
    "print(f\"- The province with the **largest increase** in cases is {max_increase_row['ProvinceName']} \"\n",
    "      f\"on {max_increase_row['Date'].date()} with {max_increase_row['DailyChange']} more cases than the previous day.\")\n",
    "print(f\"- The province with the **largest decrease** in cases is {max_decrease_row['ProvinceName']} \"\n",
    "      f\"on {max_decrease_row['Date'].date()} with {abs(max_decrease_row['DailyChange'])} less cases than the previous day.\")"
   ],
   "id": "d46762616c1492d5",
   "outputs": [
    {
     "name": "stdout",
     "output_type": "stream",
     "text": [
      "In the Lazio region:\n",
      "- The province with the **largest increase** in cases is Roma on 2020-11-13 with 2552.0 more cases than the previous day.\n",
      "- The province with the **largest decrease** in cases is Frosinone on 2020-10-25 with 200.0 less cases than the previous day.\n"
     ]
    }
   ],
   "execution_count": 8
  }
 ],
 "metadata": {
  "kernelspec": {
   "display_name": "Python 3",
   "language": "python",
   "name": "python3"
  },
  "language_info": {
   "codemirror_mode": {
    "name": "ipython",
    "version": 2
   },
   "file_extension": ".py",
   "mimetype": "text/x-python",
   "name": "python",
   "nbconvert_exporter": "python",
   "pygments_lexer": "ipython2",
   "version": "2.7.6"
  }
 },
 "nbformat": 4,
 "nbformat_minor": 5
}
