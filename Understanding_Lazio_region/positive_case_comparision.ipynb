{
 "cells": [
  {
   "cell_type": "code",
   "id": "initial_id",
   "metadata": {
    "collapsed": true,
    "ExecuteTime": {
     "end_time": "2025-03-03T20:55:45.956764Z",
     "start_time": "2025-03-03T20:55:45.952924Z"
    }
   },
   "source": "import pandas as pd",
   "outputs": [],
   "execution_count": 17
  },
  {
   "metadata": {
    "ExecuteTime": {
     "end_time": "2025-03-03T20:55:45.977882Z",
     "start_time": "2025-03-03T20:55:45.969778Z"
    }
   },
   "cell_type": "code",
   "source": "df = pd.read_pickle(\"../Cleaned_datasets/cleaned_df_covid_province.pkl\")",
   "id": "ea321483dea1459e",
   "outputs": [],
   "execution_count": 18
  },
  {
   "metadata": {
    "ExecuteTime": {
     "end_time": "2025-03-03T20:55:45.994713Z",
     "start_time": "2025-03-03T20:55:45.989226Z"
    }
   },
   "cell_type": "code",
   "source": "df3 = df[df[\"Region\"] == \"Lazio\"]",
   "id": "4042a055adf77579",
   "outputs": [],
   "execution_count": 19
  },
  {
   "metadata": {
    "ExecuteTime": {
     "end_time": "2025-03-03T20:55:46.009008Z",
     "start_time": "2025-03-03T20:55:46.005486Z"
    }
   },
   "cell_type": "code",
   "source": "df3[\"Date\"].dtype == \"datetime64[ns]\" # Check that Date column is in the right format",
   "id": "55ad41d1ceec092a",
   "outputs": [
    {
     "data": {
      "text/plain": [
       "True"
      ]
     },
     "execution_count": 20,
     "metadata": {},
     "output_type": "execute_result"
    }
   ],
   "execution_count": 20
  },
  {
   "metadata": {
    "ExecuteTime": {
     "end_time": "2025-03-03T20:55:46.147996Z",
     "start_time": "2025-03-03T20:55:46.143199Z"
    }
   },
   "cell_type": "code",
   "source": [
    "# Sort by Province and Date to be able to calculate the difference in total positive cases\n",
    "Lazio_data = df3.sort_values(by=[\"ProvinceName\", \"Date\"])"
   ],
   "id": "627e2567bd0a5d7a",
   "outputs": [],
   "execution_count": 21
  },
  {
   "metadata": {
    "ExecuteTime": {
     "end_time": "2025-03-03T20:55:46.171016Z",
     "start_time": "2025-03-03T20:55:46.167647Z"
    }
   },
   "cell_type": "code",
   "source": [
    "# Calculate the daily changes in the total positive cases\n",
    "Lazio_data['DailyChange'] = Lazio_data.groupby('ProvinceName')['TotalPositiveCases'].diff()"
   ],
   "id": "682e7fe1f1ba5672",
   "outputs": [],
   "execution_count": 22
  },
  {
   "metadata": {
    "ExecuteTime": {
     "end_time": "2025-03-03T20:55:46.189217Z",
     "start_time": "2025-03-03T20:55:46.185352Z"
    }
   },
   "cell_type": "code",
   "source": [
    "# Find the row with the **maximum increase**\n",
    "max_increase_row = Lazio_data.loc[Lazio_data[\"DailyChange\"].idxmax()]\n",
    "\n",
    "# Find the row with the **maximum decrease**\n",
    "max_decrease_row = Lazio_data.loc[Lazio_data[\"DailyChange\"].idxmin()]"
   ],
   "id": "963ad31525af889e",
   "outputs": [],
   "execution_count": 23
  },
  {
   "metadata": {
    "ExecuteTime": {
     "end_time": "2025-03-03T20:55:58.506941Z",
     "start_time": "2025-03-03T20:55:58.501791Z"
    }
   },
   "cell_type": "code",
   "source": [
    "# Print results\n",
    "print(f\"In the Lazio region:\")\n",
    "print(f\"- The province with the **largest increase** in cases is {max_increase_row['ProvinceName']} \"\n",
    "      f\"on {max_increase_row['Date'].date()} with {max_increase_row['DailyChange']} more cases than the previous day.\")\n",
    "print(f\"- The province with the **largest decrease** in cases is {max_decrease_row['ProvinceName']} \"\n",
    "      f\"on {max_decrease_row['Date'].date()} with {abs(max_decrease_row['DailyChange'])} less cases than the previous day.\")"
   ],
   "id": "d46762616c1492d5",
   "outputs": [
    {
     "name": "stdout",
     "output_type": "stream",
     "text": [
      "In the Lazio region:\n",
      "- The province with the **largest increase** in cases is Roma on 2020-11-13 with 2552.0 more cases than the previous day.\n",
      "- The province with the **largest decrease** in cases is Frosinone on 2020-10-25 with 200.0 less cases than the previous day.\n"
     ]
    }
   ],
   "execution_count": 25
  }
 ],
 "metadata": {
  "kernelspec": {
   "display_name": "Python 3",
   "language": "python",
   "name": "python3"
  },
  "language_info": {
   "codemirror_mode": {
    "name": "ipython",
    "version": 2
   },
   "file_extension": ".py",
   "mimetype": "text/x-python",
   "name": "python",
   "nbconvert_exporter": "python",
   "pygments_lexer": "ipython2",
   "version": "2.7.6"
  }
 },
 "nbformat": 4,
 "nbformat_minor": 5
}
