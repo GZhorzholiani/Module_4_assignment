{
 "cells": [
  {
   "cell_type": "code",
   "id": "initial_id",
   "metadata": {
    "collapsed": true,
    "ExecuteTime": {
     "end_time": "2025-03-10T00:33:44.422358Z",
     "start_time": "2025-03-10T00:33:43.957857Z"
    }
   },
   "source": [
    "import pandas as pd\n",
    "import os"
   ],
   "outputs": [],
   "execution_count": 1
  },
  {
   "metadata": {
    "ExecuteTime": {
     "end_time": "2025-03-10T00:33:44.438497Z",
     "start_time": "2025-03-10T00:33:44.425891Z"
    }
   },
   "cell_type": "code",
   "source": [
    "# Reading the files\n",
    "cleaned_df_altitude_of_municipalities = pd.read_pickle(\"../../Cleaned_datasets/cleaned_df_altitude_of_municipalities.pkl\")\n",
    "cleaned_df_covid_province = pd.read_pickle(\"../../Cleaned_datasets/cleaned_df_covid_province.pkl\")\n",
    "cleaned_df_covid_region = pd.read_pickle(\"../../Cleaned_datasets/cleaned_df_covid_region.pkl\")\n",
    "cleaned_df_italian_municipalities = pd.read_pickle(\"../../Cleaned_datasets/cleaned_df_italian_municipalities.pkl\")"
   ],
   "id": "1f5b63ce28f45537",
   "outputs": [],
   "execution_count": 2
  },
  {
   "metadata": {
    "ExecuteTime": {
     "end_time": "2025-03-10T00:33:44.589907Z",
     "start_time": "2025-03-10T00:33:44.580552Z"
    }
   },
   "cell_type": "code",
   "source": [
    "#applying filter for Lazio\n",
    "cleaned_df_italian_municipalities_lazio=cleaned_df_italian_municipalities[cleaned_df_italian_municipalities['RegionName']=='Lazio']\n",
    "cleaned_df_covid_region_lazio=cleaned_df_covid_region[cleaned_df_covid_region['RegionName']=='Lazio']\n",
    "cleaned_df_covid_province_lazio=cleaned_df_covid_province[cleaned_df_covid_province['RegionName']=='Lazio']\n",
    "cleaned_df_altitude_of_municipalities_lazio=cleaned_df_altitude_of_municipalities[cleaned_df_altitude_of_municipalities['RegionCode']==12]"
   ],
   "id": "2b01f4ed8d66e6b8",
   "outputs": [],
   "execution_count": 3
  },
  {
   "metadata": {
    "ExecuteTime": {
     "end_time": "2025-03-10T00:33:44.615880Z",
     "start_time": "2025-03-10T00:33:44.608519Z"
    }
   },
   "cell_type": "code",
   "source": [
    "# Preparing df for national analysis by dropping unnecessary columns, creating a list of columns to sum, grouping by date and summing the columns\n",
    "national_lvl = cleaned_df_covid_region.drop(columns=[\"RegionCode\", \"RegionName\", \"Latitude\", \"Longitude\"], errors=\"ignore\")\n",
    "columns_to_sum = [ \"HospitalizedPatients\", \"PatientsInIntensiveCare\", \"TotalHospitalizedPatients\", \"HomeConfinement\", \"CurrentPositiveCases\", \"NewPositiveCases\", \"Healed\", \"Dead\", \"TotalPositiveCases\", \"TestsExecuted\" ]\n",
    "national_lvl = national_lvl.groupby(\"Date\")[columns_to_sum].sum().reset_index()\n",
    "#print(national_lvl.head())"
   ],
   "id": "cb20a57ade2b427c",
   "outputs": [],
   "execution_count": 4
  },
  {
   "metadata": {
    "ExecuteTime": {
     "end_time": "2025-03-10T00:33:44.636950Z",
     "start_time": "2025-03-10T00:33:44.634186Z"
    }
   },
   "cell_type": "code",
   "source": [
    "regional_lvl_lazio = cleaned_df_covid_region_lazio\n",
    "#print(regional_lvl_lazio.head())"
   ],
   "id": "38f24fc689ed1e14",
   "outputs": [],
   "execution_count": 5
  },
  {
   "metadata": {
    "ExecuteTime": {
     "end_time": "2025-03-10T00:33:52.470645Z",
     "start_time": "2025-03-10T00:33:44.657894Z"
    }
   },
   "cell_type": "code",
   "source": [
    "from importlib import reload\n",
    "import Functions.report_generation\n",
    "reload(Functions.report_generation)\n",
    "from Functions.xgboost_predictions import model_xgboost\n",
    "# Define report periods\n",
    "weekly_intervals_national = [\n",
    "    (\"2020-02-24\", \"2020-03-08\", national_lvl, \"National level\"),\n",
    "    (\"2020-02-24\", \"2020-03-22\", national_lvl, \"National level\"),\n",
    "    (\"2020-02-24\", \"2020-04-05\", national_lvl, \"National level\"),\n",
    "    (\"2020-02-24\", \"2020-04-19\", national_lvl, \"National level\"),\n",
    "    (\"2020-02-24\", \"2020-05-03\", national_lvl, \"National level\"),\n",
    "    (\"2020-02-24\", \"2020-05-17\", national_lvl, \"National level\"),\n",
    "    (\"2020-02-24\", \"2020-05-31\", national_lvl, \"National level\"),\n",
    "    (\"2020-02-24\", \"2020-06-14\", national_lvl, \"National level\"),\n",
    "    (\"2020-02-24\", \"2020-06-28\", national_lvl, \"National level\"),\n",
    "    (\"2020-02-24\", \"2020-07-12\", national_lvl, \"National level\"),\n",
    "    (\"2020-02-24\", \"2020-07-26\", national_lvl, \"National level\"),\n",
    "    (\"2020-02-24\", \"2020-08-09\", national_lvl, \"National level\"),\n",
    "    (\"2020-02-24\", \"2020-08-23\", national_lvl, \"National level\"),\n",
    "    (\"2020-02-24\", \"2020-09-06\", national_lvl, \"National level\"),\n",
    "    (\"2020-02-24\", \"2020-09-20\", national_lvl, \"National level\"),\n",
    "    (\"2020-02-24\", \"2020-10-04\", national_lvl, \"National level\"),\n",
    "    (\"2020-02-24\", \"2020-10-18\", national_lvl, \"National level\"),\n",
    "    (\"2020-02-24\", \"2020-11-01\", national_lvl, \"National level\"),\n",
    "    (\"2020-02-24\", \"2020-11-15\", national_lvl, \"National level\"),\n",
    "    (\"2020-02-24\", \"2020-11-29\", national_lvl, \"National level\"),\n",
    "    (\"2020-02-24\", \"2020-12-06\", national_lvl, \"National level\"),\n",
    "\n",
    "]\n",
    "\n",
    "# Directory to store reports\n",
    "graph_dir = os.path.join(os.path.dirname(os.getcwd()), \"Generated_predictions\", \"Generated_graphs\", \"National\")\n",
    "summary_dir = os.path.join(os.path.dirname(os.getcwd()), \"Generated_predictions\", \"Generated_summary\", \"National\")\n",
    "\n",
    "# Ensure the directories exist\n",
    "os.makedirs(graph_dir, exist_ok=True)\n",
    "os.makedirs(summary_dir, exist_ok=True)\n",
    "\n",
    "# Generate reports\n",
    "for start_date, end_date, dataframe, dataframe_name in weekly_intervals_national:\n",
    "    # Save graph image\n",
    "    graph_file_path = os.path.join(graph_dir, f\"national_predicted_{start_date}_to_{end_date}.png\")\n",
    "    \n",
    "    # Save summary text file\n",
    "    summary_file_path = os.path.join(summary_dir, f\"national_prediction_summary_{start_date}_to_{end_date}.txt\")\n",
    "    \n",
    "    # Generate report with both graph and summary text file\n",
    "    model_xgboost(start_date, end_date, dataframe, dataframe_name, save_path=graph_file_path, text_file_path=summary_file_path)\n"
   ],
   "id": "df78a27aaa04c91e",
   "outputs": [],
   "execution_count": 6
  },
  {
   "metadata": {
    "ExecuteTime": {
     "end_time": "2025-03-10T00:33:59.228148Z",
     "start_time": "2025-03-10T00:33:52.503523Z"
    }
   },
   "cell_type": "code",
   "source": [
    "from importlib import reload\n",
    "import Functions.report_generation\n",
    "reload(Functions.report_generation)\n",
    "from Functions.xgboost_predictions import model_xgboost\n",
    "# Define report periods\n",
    "weekly_intervals_lazio = [\n",
    "    (\"2020-02-24\", \"2020-03-08\", regional_lvl_lazio, \"Lazio Region\"),\n",
    "    (\"2020-02-24\", \"2020-03-22\", regional_lvl_lazio, \"Lazio Region\"),\n",
    "    (\"2020-02-24\", \"2020-04-05\", regional_lvl_lazio, \"Lazio Region\"),\n",
    "    (\"2020-02-24\", \"2020-04-19\", regional_lvl_lazio, \"Lazio Region\"),\n",
    "    (\"2020-02-24\", \"2020-05-03\", regional_lvl_lazio, \"Lazio Region\"),\n",
    "    (\"2020-02-24\", \"2020-05-17\", regional_lvl_lazio, \"Lazio Region\"),\n",
    "    (\"2020-02-24\", \"2020-05-31\", regional_lvl_lazio, \"Lazio Region\"),\n",
    "    (\"2020-02-24\", \"2020-06-14\", regional_lvl_lazio, \"Lazio Region\"),\n",
    "    (\"2020-02-24\", \"2020-06-28\", regional_lvl_lazio, \"Lazio Region\"),\n",
    "    (\"2020-02-24\", \"2020-07-12\", regional_lvl_lazio, \"Lazio Region\"),\n",
    "    (\"2020-02-24\", \"2020-07-26\", regional_lvl_lazio, \"Lazio Region\"),\n",
    "    (\"2020-02-24\", \"2020-08-09\", regional_lvl_lazio, \"Lazio Region\"),\n",
    "    (\"2020-02-24\", \"2020-08-23\", regional_lvl_lazio, \"Lazio Region\"),\n",
    "    (\"2020-02-24\", \"2020-09-06\", regional_lvl_lazio, \"Lazio Region\"),\n",
    "    (\"2020-02-24\", \"2020-09-20\", regional_lvl_lazio, \"Lazio Region\"),\n",
    "    (\"2020-02-24\", \"2020-10-04\", regional_lvl_lazio, \"Lazio Region\"),\n",
    "    (\"2020-02-24\", \"2020-10-18\", regional_lvl_lazio, \"Lazio Region\"),\n",
    "    (\"2020-02-24\", \"2020-11-01\", regional_lvl_lazio, \"Lazio Region\"),\n",
    "    (\"2020-02-24\", \"2020-11-15\", regional_lvl_lazio, \"Lazio Region\"),\n",
    "    (\"2020-02-24\", \"2020-11-29\", regional_lvl_lazio, \"Lazio Region\"),\n",
    "    (\"2020-02-24\", \"2020-12-06\", regional_lvl_lazio, \"Lazio Region\"),\n",
    "]\n",
    "\n",
    "# Directory to store reports\n",
    "graph_dir = os.path.join(os.path.dirname(os.getcwd()), \"Generated_predictions\", \"Generated_graphs\", \"Lazio\")\n",
    "summary_dir = os.path.join(os.path.dirname(os.getcwd()), \"Generated_predictions\", \"Generated_summary\", \"Lazio\")\n",
    "\n",
    "# Ensure the directories exist\n",
    "os.makedirs(graph_dir, exist_ok=True)\n",
    "os.makedirs(summary_dir, exist_ok=True)\n",
    "\n",
    "# Generate reports\n",
    "for start_date, end_date, dataframe, dataframe_name in weekly_intervals_lazio:\n",
    "    # Save graph image\n",
    "    graph_file_path = os.path.join(graph_dir, f\"lazio_predicted_{start_date}_to_{end_date}.png\")\n",
    "    \n",
    "    # Save summary text file\n",
    "    summary_file_path = os.path.join(summary_dir, f\"lazio_prediction_summary_{start_date}_to_{end_date}.txt\")\n",
    "    \n",
    "    # Generate report with both graph and summary text file\n",
    "    model_xgboost(start_date, end_date, dataframe, dataframe_name, save_path=graph_file_path, text_file_path=summary_file_path)"
   ],
   "id": "18c6de45f5dc448c",
   "outputs": [],
   "execution_count": 7
  }
 ],
 "metadata": {
  "kernelspec": {
   "display_name": "Python 3",
   "language": "python",
   "name": "python3"
  },
  "language_info": {
   "codemirror_mode": {
    "name": "ipython",
    "version": 2
   },
   "file_extension": ".py",
   "mimetype": "text/x-python",
   "name": "python",
   "nbconvert_exporter": "python",
   "pygments_lexer": "ipython2",
   "version": "2.7.6"
  }
 },
 "nbformat": 4,
 "nbformat_minor": 5
}
