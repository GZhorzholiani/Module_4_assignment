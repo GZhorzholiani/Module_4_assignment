{
 "cells": [
  {
   "cell_type": "code",
   "id": "initial_id",
   "metadata": {
    "collapsed": true,
    "ExecuteTime": {
     "end_time": "2025-03-09T22:20:04.958674Z",
     "start_time": "2025-03-09T22:20:04.955816Z"
    }
   },
   "source": [
    "import pandas as pd\n",
    "import os"
   ],
   "outputs": [],
   "execution_count": 8
  },
  {
   "metadata": {
    "ExecuteTime": {
     "end_time": "2025-03-09T22:20:04.977954Z",
     "start_time": "2025-03-09T22:20:04.964527Z"
    }
   },
   "cell_type": "code",
   "source": [
    "# Reading the files\n",
    "cleaned_df_altitude_of_municipalities = pd.read_pickle(\"../../Cleaned_datasets/cleaned_df_altitude_of_municipalities.pkl\")\n",
    "cleaned_df_covid_province = pd.read_pickle(\"../../Cleaned_datasets/cleaned_df_covid_province.pkl\")\n",
    "cleaned_df_covid_region = pd.read_pickle(\"../../Cleaned_datasets/cleaned_df_covid_region.pkl\")\n",
    "cleaned_df_italian_municipalities = pd.read_pickle(\"../../Cleaned_datasets/cleaned_df_italian_municipalities.pkl\")"
   ],
   "id": "281b70e01376a915",
   "outputs": [],
   "execution_count": 9
  },
  {
   "metadata": {
    "ExecuteTime": {
     "end_time": "2025-03-09T22:20:04.996060Z",
     "start_time": "2025-03-09T22:20:04.989715Z"
    }
   },
   "cell_type": "code",
   "source": [
    "#applying filter for Lazio\n",
    "cleaned_df_italian_municipalities_lazio=cleaned_df_italian_municipalities[cleaned_df_italian_municipalities['RegionName']=='Lazio']\n",
    "cleaned_df_covid_region_lazio=cleaned_df_covid_region[cleaned_df_covid_region['RegionName']=='Lazio']\n",
    "cleaned_df_covid_province_lazio=cleaned_df_covid_province[cleaned_df_covid_province['RegionName']=='Lazio']\n",
    "cleaned_df_altitude_of_municipalities_lazio=cleaned_df_altitude_of_municipalities[cleaned_df_altitude_of_municipalities['RegionCode']==12]"
   ],
   "id": "f47743c8dc0c366e",
   "outputs": [],
   "execution_count": 10
  },
  {
   "metadata": {
    "ExecuteTime": {
     "end_time": "2025-03-09T22:20:05.019887Z",
     "start_time": "2025-03-09T22:20:05.012560Z"
    }
   },
   "cell_type": "code",
   "source": [
    "# Preparing df for national analysis by dropping unnecessary columns, creating a list of columns to sum, grouping by date and summing the columns\n",
    "national_lvl = cleaned_df_covid_region.drop(columns=[\"RegionCode\", \"RegionName\", \"Latitude\", \"Longitude\"], errors=\"ignore\")\n",
    "columns_to_sum = [ \"HospitalizedPatients\", \"PatientsInIntensiveCare\", \"TotalHospitalizedPatients\", \"HomeConfinement\", \"CurrentPositiveCases\", \"NewPositiveCases\", \"Healed\", \"Dead\", \"TotalPositiveCases\", \"TestsExecuted\" ]\n",
    "national_lvl = national_lvl.groupby(\"Date\")[columns_to_sum].sum().reset_index()\n",
    "#print(national_lvl.head())"
   ],
   "id": "ebc8d67e0feb4413",
   "outputs": [],
   "execution_count": 11
  },
  {
   "metadata": {
    "ExecuteTime": {
     "end_time": "2025-03-09T22:20:05.043268Z",
     "start_time": "2025-03-09T22:20:05.038614Z"
    }
   },
   "cell_type": "code",
   "source": [
    "regional_lvl_lazio = cleaned_df_covid_region_lazio\n",
    "#print(regional_lvl_lazio.head())"
   ],
   "id": "684452ba3369be72",
   "outputs": [],
   "execution_count": 12
  },
  {
   "metadata": {
    "ExecuteTime": {
     "end_time": "2025-03-09T22:55:31.313673Z",
     "start_time": "2025-03-09T22:55:16.331818Z"
    }
   },
   "cell_type": "code",
   "source": [
    "from importlib import reload\n",
    "import Functions.report_generation\n",
    "reload(Functions.report_generation)\n",
    "from Functions.report_generation import report_generation\n",
    "# Define report periods\n",
    "weekly_intervals_national = [\n",
    "    (\"2020-02-24\", \"2020-03-08\", national_lvl, \"National level\"),\n",
    "    (\"2020-02-24\", \"2020-03-22\", national_lvl, \"National level\"),\n",
    "    (\"2020-02-24\", \"2020-04-05\", national_lvl, \"National level\"),\n",
    "    (\"2020-02-24\", \"2020-04-19\", national_lvl, \"National level\"),\n",
    "    (\"2020-02-24\", \"2020-05-03\", national_lvl, \"National level\"),\n",
    "    (\"2020-02-24\", \"2020-05-17\", national_lvl, \"National level\"),\n",
    "    (\"2020-02-24\", \"2020-05-31\", national_lvl, \"National level\"),\n",
    "    (\"2020-02-24\", \"2020-06-14\", national_lvl, \"National level\"),\n",
    "    (\"2020-02-24\", \"2020-06-28\", national_lvl, \"National level\"),\n",
    "    (\"2020-02-24\", \"2020-07-12\", national_lvl, \"National level\"),\n",
    "    (\"2020-02-24\", \"2020-07-26\", national_lvl, \"National level\"),\n",
    "    (\"2020-02-24\", \"2020-08-09\", national_lvl, \"National level\"),\n",
    "    (\"2020-02-24\", \"2020-08-23\", national_lvl, \"National level\"),\n",
    "    (\"2020-02-24\", \"2020-09-06\", national_lvl, \"National level\"),\n",
    "    (\"2020-02-24\", \"2020-09-20\", national_lvl, \"National level\"),\n",
    "    (\"2020-02-24\", \"2020-10-04\", national_lvl, \"National level\"),\n",
    "    (\"2020-02-24\", \"2020-10-18\", national_lvl, \"National level\"),\n",
    "    (\"2020-02-24\", \"2020-11-01\", national_lvl, \"National level\"),\n",
    "    (\"2020-02-24\", \"2020-11-15\", national_lvl, \"National level\"),\n",
    "    (\"2020-02-24\", \"2020-11-29\", national_lvl, \"National level\"),\n",
    "    (\"2020-02-24\", \"2020-12-06\", national_lvl, \"National level\"),\n",
    "\n",
    "]\n",
    "\n",
    "# Directory to store reports\n",
    "graph_dir = os.path.join(os.path.dirname(os.getcwd()), \"Generated_reports\", \"Generated_graphs\", \"National\")\n",
    "summary_dir = os.path.join(os.path.dirname(os.getcwd()), \"Generated_reports\", \"Generated_summary\", \"National\")\n",
    "\n",
    "# Ensure the directories exist\n",
    "os.makedirs(graph_dir, exist_ok=True)\n",
    "os.makedirs(summary_dir, exist_ok=True)\n",
    "\n",
    "# Generate reports\n",
    "for start_date, end_date, dataframe, dataframe_name in weekly_intervals_national:\n",
    "    # Save graph image\n",
    "    graph_file_path = os.path.join(graph_dir, f\"national_report_{start_date}_to_{end_date}.png\")\n",
    "    \n",
    "    # Save summary text file\n",
    "    summary_file_path = os.path.join(summary_dir, f\"national_summary_{start_date}_to_{end_date}.txt\")\n",
    "    \n",
    "    # Generate report with both graph and summary text file\n",
    "    report_generation(start_date, end_date, dataframe, dataframe_name, save_path=graph_file_path, text_file_path=summary_file_path)\n"
   ],
   "id": "127da7337651dd91",
   "outputs": [],
   "execution_count": 23
  },
  {
   "metadata": {
    "ExecuteTime": {
     "end_time": "2025-03-09T22:56:02.011581Z",
     "start_time": "2025-03-09T22:55:48.066942Z"
    }
   },
   "cell_type": "code",
   "source": [
    "from importlib import reload\n",
    "import Functions.report_generation\n",
    "reload(Functions.report_generation)\n",
    "from Functions.report_generation import report_generation\n",
    "# Define report periods\n",
    "weekly_intervals_lazio = [\n",
    "    (\"2020-02-24\", \"2020-03-08\", regional_lvl_lazio, \"Lazio Region\"),\n",
    "    (\"2020-02-24\", \"2020-03-22\", regional_lvl_lazio, \"Lazio Region\"),\n",
    "    (\"2020-02-24\", \"2020-04-05\", regional_lvl_lazio, \"Lazio Region\"),\n",
    "    (\"2020-02-24\", \"2020-04-19\", regional_lvl_lazio, \"Lazio Region\"),\n",
    "    (\"2020-02-24\", \"2020-05-03\", regional_lvl_lazio, \"Lazio Region\"),\n",
    "    (\"2020-02-24\", \"2020-05-17\", regional_lvl_lazio, \"Lazio Region\"),\n",
    "    (\"2020-02-24\", \"2020-05-31\", regional_lvl_lazio, \"Lazio Region\"),\n",
    "    (\"2020-02-24\", \"2020-06-14\", regional_lvl_lazio, \"Lazio Region\"),\n",
    "    (\"2020-02-24\", \"2020-06-28\", regional_lvl_lazio, \"Lazio Region\"),\n",
    "    (\"2020-02-24\", \"2020-07-12\", regional_lvl_lazio, \"Lazio Region\"),\n",
    "    (\"2020-02-24\", \"2020-07-26\", regional_lvl_lazio, \"Lazio Region\"),\n",
    "    (\"2020-02-24\", \"2020-08-09\", regional_lvl_lazio, \"Lazio Region\"),\n",
    "    (\"2020-02-24\", \"2020-08-23\", regional_lvl_lazio, \"Lazio Region\"),\n",
    "    (\"2020-02-24\", \"2020-09-06\", regional_lvl_lazio, \"Lazio Region\"),\n",
    "    (\"2020-02-24\", \"2020-09-20\", regional_lvl_lazio, \"Lazio Region\"),\n",
    "    (\"2020-02-24\", \"2020-10-04\", regional_lvl_lazio, \"Lazio Region\"),\n",
    "    (\"2020-02-24\", \"2020-10-18\", regional_lvl_lazio, \"Lazio Region\"),\n",
    "    (\"2020-02-24\", \"2020-11-01\", regional_lvl_lazio, \"Lazio Region\"),\n",
    "    (\"2020-02-24\", \"2020-11-15\", regional_lvl_lazio, \"Lazio Region\"),\n",
    "    (\"2020-02-24\", \"2020-11-29\", regional_lvl_lazio, \"Lazio Region\"),\n",
    "    (\"2020-02-24\", \"2020-12-06\", regional_lvl_lazio, \"Lazio Region\"),\n",
    "]\n",
    "\n",
    "# Directory to store reports\n",
    "graph_dir = os.path.join(os.path.dirname(os.getcwd()), \"Generated_reports\", \"Generated_graphs\", \"Lazio\")\n",
    "summary_dir = os.path.join(os.path.dirname(os.getcwd()), \"Generated_reports\", \"Generated_summary\", \"Lazio\")\n",
    "\n",
    "# Ensure the directories exist\n",
    "os.makedirs(graph_dir, exist_ok=True)\n",
    "os.makedirs(summary_dir, exist_ok=True)\n",
    "\n",
    "# Generate reports\n",
    "for start_date, end_date, dataframe, dataframe_name in weekly_intervals_lazio:\n",
    "    # Save graph image\n",
    "    graph_file_path = os.path.join(graph_dir, f\"lazio_report_{start_date}_to_{end_date}.png\")\n",
    "    \n",
    "    # Save summary text file\n",
    "    summary_file_path = os.path.join(summary_dir, f\"lazio_summary_{start_date}_to_{end_date}.txt\")\n",
    "    \n",
    "    # Generate report with both graph and summary text file\n",
    "    report_generation(start_date, end_date, dataframe, dataframe_name, save_path=graph_file_path, text_file_path=summary_file_path)\n"
   ],
   "id": "56d8df053b27412e",
   "outputs": [],
   "execution_count": 24
  }
 ],
 "metadata": {
  "kernelspec": {
   "display_name": "Python 3",
   "language": "python",
   "name": "python3"
  },
  "language_info": {
   "codemirror_mode": {
    "name": "ipython",
    "version": 2
   },
   "file_extension": ".py",
   "mimetype": "text/x-python",
   "name": "python",
   "nbconvert_exporter": "python",
   "pygments_lexer": "ipython2",
   "version": "2.7.6"
  }
 },
 "nbformat": 4,
 "nbformat_minor": 5
}
